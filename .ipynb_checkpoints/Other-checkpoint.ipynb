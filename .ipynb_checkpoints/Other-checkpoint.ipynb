{
 "cells": [
  {
   "cell_type": "markdown",
   "metadata": {},
   "source": [
    "# Retail"
   ]
  },
  {
   "cell_type": "code",
   "execution_count": 1,
   "metadata": {},
   "outputs": [],
   "source": [
    "import pandas as pd\n",
    "import numpy as np\n",
    "import math\n",
    "import json\n",
    "import seaborn as sns\n",
    "import matplotlib.pyplot as plt\n",
    "\n",
    "# read in the json files\n",
    "portfolio = pd.read_json('data/portfolio.json', orient='records', lines=True)\n",
    "profile = pd.read_json('data/profile.json', orient='records', lines=True)\n",
    "transcript = pd.read_json('data/transcript.json', orient='records', lines=True)"
   ]
  },
  {
   "cell_type": "markdown",
   "metadata": {},
   "source": [
    "## Transcript (transactions) data manipulation"
   ]
  },
  {
   "cell_type": "code",
   "execution_count": 2,
   "metadata": {},
   "outputs": [
    {
     "data": {
      "text/html": [
       "<div>\n",
       "<style scoped>\n",
       "    .dataframe tbody tr th:only-of-type {\n",
       "        vertical-align: middle;\n",
       "    }\n",
       "\n",
       "    .dataframe tbody tr th {\n",
       "        vertical-align: top;\n",
       "    }\n",
       "\n",
       "    .dataframe thead th {\n",
       "        text-align: right;\n",
       "    }\n",
       "</style>\n",
       "<table border=\"1\" class=\"dataframe\">\n",
       "  <thead>\n",
       "    <tr style=\"text-align: right;\">\n",
       "      <th></th>\n",
       "      <th>person</th>\n",
       "      <th>event</th>\n",
       "      <th>value</th>\n",
       "      <th>time</th>\n",
       "    </tr>\n",
       "  </thead>\n",
       "  <tbody>\n",
       "    <tr>\n",
       "      <th>0</th>\n",
       "      <td>78afa995795e4d85b5d9ceeca43f5fef</td>\n",
       "      <td>offer received</td>\n",
       "      <td>{'offer id': '9b98b8c7a33c4b65b9aebfe6a799e6d9'}</td>\n",
       "      <td>0</td>\n",
       "    </tr>\n",
       "    <tr>\n",
       "      <th>1</th>\n",
       "      <td>a03223e636434f42ac4c3df47e8bac43</td>\n",
       "      <td>offer received</td>\n",
       "      <td>{'offer id': '0b1e1539f2cc45b7b9fa7c272da2e1d7'}</td>\n",
       "      <td>0</td>\n",
       "    </tr>\n",
       "    <tr>\n",
       "      <th>2</th>\n",
       "      <td>e2127556f4f64592b11af22de27a7932</td>\n",
       "      <td>offer received</td>\n",
       "      <td>{'offer id': '2906b810c7d4411798c6938adc9daaa5'}</td>\n",
       "      <td>0</td>\n",
       "    </tr>\n",
       "    <tr>\n",
       "      <th>3</th>\n",
       "      <td>8ec6ce2a7e7949b1bf142def7d0e0586</td>\n",
       "      <td>offer received</td>\n",
       "      <td>{'offer id': 'fafdcd668e3743c1bb461111dcafc2a4'}</td>\n",
       "      <td>0</td>\n",
       "    </tr>\n",
       "    <tr>\n",
       "      <th>4</th>\n",
       "      <td>68617ca6246f4fbc85e91a2a49552598</td>\n",
       "      <td>offer received</td>\n",
       "      <td>{'offer id': '4d5c57ea9a6940dd891ad53e9dbe8da0'}</td>\n",
       "      <td>0</td>\n",
       "    </tr>\n",
       "  </tbody>\n",
       "</table>\n",
       "</div>"
      ],
      "text/plain": [
       "                             person           event  \\\n",
       "0  78afa995795e4d85b5d9ceeca43f5fef  offer received   \n",
       "1  a03223e636434f42ac4c3df47e8bac43  offer received   \n",
       "2  e2127556f4f64592b11af22de27a7932  offer received   \n",
       "3  8ec6ce2a7e7949b1bf142def7d0e0586  offer received   \n",
       "4  68617ca6246f4fbc85e91a2a49552598  offer received   \n",
       "\n",
       "                                              value  time  \n",
       "0  {'offer id': '9b98b8c7a33c4b65b9aebfe6a799e6d9'}     0  \n",
       "1  {'offer id': '0b1e1539f2cc45b7b9fa7c272da2e1d7'}     0  \n",
       "2  {'offer id': '2906b810c7d4411798c6938adc9daaa5'}     0  \n",
       "3  {'offer id': 'fafdcd668e3743c1bb461111dcafc2a4'}     0  \n",
       "4  {'offer id': '4d5c57ea9a6940dd891ad53e9dbe8da0'}     0  "
      ]
     },
     "execution_count": 2,
     "metadata": {},
     "output_type": "execute_result"
    }
   ],
   "source": [
    "transcript.head()"
   ]
  },
  {
   "cell_type": "code",
   "execution_count": 3,
   "metadata": {},
   "outputs": [
    {
     "data": {
      "text/plain": [
       "['offer_id', 'reward']"
      ]
     },
     "execution_count": 3,
     "metadata": {},
     "output_type": "execute_result"
    }
   ],
   "source": [
    "list(transcript.value.iloc[12658].keys())"
   ]
  },
  {
   "cell_type": "code",
   "execution_count": 4,
   "metadata": {},
   "outputs": [
    {
     "data": {
      "text/plain": [
       "dict_keys(['offer id'])"
      ]
     },
     "execution_count": 4,
     "metadata": {},
     "output_type": "execute_result"
    }
   ],
   "source": [
    "transcript[transcript['event']==\"offer received\"].value.iloc[12659].keys()"
   ]
  },
  {
   "cell_type": "code",
   "execution_count": 5,
   "metadata": {},
   "outputs": [
    {
     "data": {
      "text/plain": [
       "array(['offer received', 'offer viewed', 'transaction', 'offer completed'],\n",
       "      dtype=object)"
      ]
     },
     "execution_count": 5,
     "metadata": {},
     "output_type": "execute_result"
    }
   ],
   "source": [
    "transcript.event.unique()"
   ]
  },
  {
   "cell_type": "markdown",
   "metadata": {},
   "source": [
    "In this dataframe we can apply the following modifications:\n",
    "\n",
    "- we can separate the column value into three more columns: \"offer_id\", \"amount\" e \"reward\"\n",
    "- we can separate the column value into three more columns (one hot encoding): \"offer_received\", \"offer_viewed\", \"transaction\" e \"offer_completed\""
   ]
  },
  {
   "cell_type": "code",
   "execution_count": 6,
   "metadata": {},
   "outputs": [],
   "source": [
    "# def expand_transcript_offer_id(entry):\n",
    "#     '''\n",
    "    \n",
    "#     '''\n",
    "#     try:\n",
    "#         if type(entry['offer id']) == str:\n",
    "#             return entry['offer id']\n",
    "#         elif type(entry['offer_id']) == str:\n",
    "#             return entry['offer_id']\n",
    "#     except:\n",
    "#         return np.nan\n",
    "        \n",
    "def expand_transcript_offer_id():\n",
    "    '''\n",
    "    \n",
    "    '''\n",
    "    offer_id_list = []\n",
    "\n",
    "    for dic in transcript.value.iloc[0:]:\n",
    "        if 'offer id' in list(dic.keys()):\n",
    "            offer_id_list.append(dic['offer id'])\n",
    "        elif 'offer_id' in list(dic.keys()):\n",
    "            offer_id_list.append(dic['offer_id'])\n",
    "        else:\n",
    "            offer_id_list.append(np.nan)\n",
    "    \n",
    "    return offer_id_list\n",
    "    \n",
    "def expand_transcript_amount(entry):\n",
    "    '''\n",
    "    \n",
    "    '''\n",
    "    try:\n",
    "        if type(entry['amount']) == float or int:\n",
    "            return entry['amount']\n",
    "    except:\n",
    "        return np.nan\n",
    "    \n",
    "def expand_transcript_reward(entry):\n",
    "    '''\n",
    "    \n",
    "    '''\n",
    "    try:\n",
    "        if type(entry['reward']) == float or int:\n",
    "            return entry['reward']\n",
    "    except:\n",
    "        return np.nan"
   ]
  },
  {
   "cell_type": "code",
   "execution_count": 7,
   "metadata": {},
   "outputs": [],
   "source": [
    "def expand_transcript_all(transcript=transcript):\n",
    "    '''\n",
    "    \n",
    "    '''\n",
    "    \n",
    "    # then we create three new columns     \n",
    "    offer_id_list = expand_transcript_offer_id()\n",
    "    transcript['offer_id'] = offer_id_list\n",
    "    transcript['amount'] = transcript['value'].apply(lambda x: expand_transcript_amount(x))\n",
    "    transcript['reward'] = transcript['value'].apply(lambda x: expand_transcript_reward(x))\n",
    "    \n",
    "    # and then drop the \"value\" column\n",
    "    transcript.drop(columns=[\"value\"], inplace=True)\n",
    "    return transcript\n",
    "\n",
    "transcript = expand_transcript_all(transcript=transcript)"
   ]
  },
  {
   "cell_type": "code",
   "execution_count": 8,
   "metadata": {},
   "outputs": [
    {
     "data": {
      "text/html": [
       "<div>\n",
       "<style scoped>\n",
       "    .dataframe tbody tr th:only-of-type {\n",
       "        vertical-align: middle;\n",
       "    }\n",
       "\n",
       "    .dataframe tbody tr th {\n",
       "        vertical-align: top;\n",
       "    }\n",
       "\n",
       "    .dataframe thead th {\n",
       "        text-align: right;\n",
       "    }\n",
       "</style>\n",
       "<table border=\"1\" class=\"dataframe\">\n",
       "  <thead>\n",
       "    <tr style=\"text-align: right;\">\n",
       "      <th></th>\n",
       "      <th>person</th>\n",
       "      <th>event</th>\n",
       "      <th>time</th>\n",
       "      <th>offer_id</th>\n",
       "      <th>amount</th>\n",
       "      <th>reward</th>\n",
       "    </tr>\n",
       "  </thead>\n",
       "  <tbody>\n",
       "    <tr>\n",
       "      <th>0</th>\n",
       "      <td>78afa995795e4d85b5d9ceeca43f5fef</td>\n",
       "      <td>offer received</td>\n",
       "      <td>0</td>\n",
       "      <td>9b98b8c7a33c4b65b9aebfe6a799e6d9</td>\n",
       "      <td>NaN</td>\n",
       "      <td>NaN</td>\n",
       "    </tr>\n",
       "    <tr>\n",
       "      <th>1</th>\n",
       "      <td>a03223e636434f42ac4c3df47e8bac43</td>\n",
       "      <td>offer received</td>\n",
       "      <td>0</td>\n",
       "      <td>0b1e1539f2cc45b7b9fa7c272da2e1d7</td>\n",
       "      <td>NaN</td>\n",
       "      <td>NaN</td>\n",
       "    </tr>\n",
       "    <tr>\n",
       "      <th>2</th>\n",
       "      <td>e2127556f4f64592b11af22de27a7932</td>\n",
       "      <td>offer received</td>\n",
       "      <td>0</td>\n",
       "      <td>2906b810c7d4411798c6938adc9daaa5</td>\n",
       "      <td>NaN</td>\n",
       "      <td>NaN</td>\n",
       "    </tr>\n",
       "    <tr>\n",
       "      <th>3</th>\n",
       "      <td>8ec6ce2a7e7949b1bf142def7d0e0586</td>\n",
       "      <td>offer received</td>\n",
       "      <td>0</td>\n",
       "      <td>fafdcd668e3743c1bb461111dcafc2a4</td>\n",
       "      <td>NaN</td>\n",
       "      <td>NaN</td>\n",
       "    </tr>\n",
       "    <tr>\n",
       "      <th>4</th>\n",
       "      <td>68617ca6246f4fbc85e91a2a49552598</td>\n",
       "      <td>offer received</td>\n",
       "      <td>0</td>\n",
       "      <td>4d5c57ea9a6940dd891ad53e9dbe8da0</td>\n",
       "      <td>NaN</td>\n",
       "      <td>NaN</td>\n",
       "    </tr>\n",
       "  </tbody>\n",
       "</table>\n",
       "</div>"
      ],
      "text/plain": [
       "                             person           event  time  \\\n",
       "0  78afa995795e4d85b5d9ceeca43f5fef  offer received     0   \n",
       "1  a03223e636434f42ac4c3df47e8bac43  offer received     0   \n",
       "2  e2127556f4f64592b11af22de27a7932  offer received     0   \n",
       "3  8ec6ce2a7e7949b1bf142def7d0e0586  offer received     0   \n",
       "4  68617ca6246f4fbc85e91a2a49552598  offer received     0   \n",
       "\n",
       "                           offer_id  amount  reward  \n",
       "0  9b98b8c7a33c4b65b9aebfe6a799e6d9     NaN     NaN  \n",
       "1  0b1e1539f2cc45b7b9fa7c272da2e1d7     NaN     NaN  \n",
       "2  2906b810c7d4411798c6938adc9daaa5     NaN     NaN  \n",
       "3  fafdcd668e3743c1bb461111dcafc2a4     NaN     NaN  \n",
       "4  4d5c57ea9a6940dd891ad53e9dbe8da0     NaN     NaN  "
      ]
     },
     "execution_count": 8,
     "metadata": {},
     "output_type": "execute_result"
    }
   ],
   "source": [
    "transcript.head()"
   ]
  },
  {
   "cell_type": "code",
   "execution_count": 9,
   "metadata": {},
   "outputs": [
    {
     "data": {
      "image/png": "[encoded data removed]",
      "text/plain": [
       "<Figure size 720x360 with 4 Axes>"
      ]
     },
     "metadata": {
      "needs_background": "light"
     },
     "output_type": "display_data"
    }
   ],
   "source": [
    "transcript.hist(bins=100, figsize=(10, 5));"
   ]
  },
  {
   "cell_type": "code",
   "execution_count": 10,
   "metadata": {},
   "outputs": [
    {
     "data": {
      "text/plain": [
       "(306534, 17000)"
      ]
     },
     "execution_count": 10,
     "metadata": {},
     "output_type": "execute_result"
    }
   ],
   "source": [
    "# we can see that one person can have more than one transaction (event) and there are 17000 clients\n",
    "len(transcript), len(transcript.person.unique())"
   ]
  },
  {
   "cell_type": "markdown",
   "metadata": {},
   "source": [
    "In this dataset we have information of the user's transactions and the offers the users receive. So, we can inquire which offers the users received, viewed and completed and which they just received and didn't used. It can be interesting if we apply one hot encoding to each event: received, viewed and completed. So, we will separate the dataset by event and then merge to apply one hot encoding.\n",
    "\n",
    "We also have the event: transaction. Using this event we can see the number of transactions of each user and the total amount the users have spent. This information can be valuable to complement the profile dataset."
   ]
  },
  {
   "cell_type": "markdown",
   "metadata": {},
   "source": [
    "### events: received, viewed, completed, transaction"
   ]
  },
  {
   "cell_type": "code",
   "execution_count": 11,
   "metadata": {},
   "outputs": [
    {
     "name": "stderr",
     "output_type": "stream",
     "text": [
      "/home/hugo/anaconda3/lib/python3.8/site-packages/pandas/core/frame.py:4308: SettingWithCopyWarning: \n",
      "A value is trying to be set on a copy of a slice from a DataFrame\n",
      "\n",
      "See the caveats in the documentation: https://pandas.pydata.org/pandas-docs/stable/user_guide/indexing.html#returning-a-view-versus-a-copy\n",
      "  return super().drop(\n"
     ]
    }
   ],
   "source": [
    "def separate_transcript(transcript=transcript):\n",
    "    '''\n",
    "    this function separates the transcript df into 4 df according to\n",
    "    the 4 types of events\n",
    "    '''\n",
    "    # the received df just tells us that a user received an offer\n",
    "    # so, it doesn't have amount and reward information, let's drop\n",
    "    received = transcript[transcript['event'] == \"offer received\"]\n",
    "    received.drop(columns=['amount', 'reward'], inplace=True)\n",
    "    \n",
    "    # the received df just tells us that a user viewed an offer\n",
    "    # so, it doesn't have amount and reward information, let's drop\n",
    "    viewed = transcript[transcript['event'] == \"offer viewed\"]\n",
    "    viewed.drop(columns=['amount', 'reward'], inplace=True)\n",
    "    \n",
    "    # the completed df tells us that a user completed (responded to) an offer\n",
    "    # so, it just have reward information, let's drop amount column\n",
    "    completed = transcript[transcript['event'] == \"offer completed\"]\n",
    "    completed.drop(columns=['amount'], inplace=True)\n",
    "    \n",
    "    # the transaction df tells us the amount of each transaction\n",
    "    # so, itjust have amount information, let's drop offer_id and reward columns \n",
    "    transaction = transcript[transcript['event'] == \"transaction\"]\n",
    "    transaction.drop(columns=['offer_id', 'reward'], inplace=True)\n",
    "    \n",
    "    #change the columns' names\n",
    "    received.columns = ['customer_id', 'event', 'time', 'offer_id']\n",
    "    viewed.columns = ['customer_id', 'event', 'time', 'offer_id']\n",
    "    completed.columns = ['customer_id', 'event', 'time', 'offer_id', 'reward']\n",
    "    transaction.columns = ['customer_id', 'event', 'time', 'amount']\n",
    "    \n",
    "    return received, viewed, completed, transaction\n",
    "\n",
    "received, viewed, completed, transaction = separate_transcript(transcript=transcript)"
   ]
  },
  {
   "cell_type": "markdown",
   "metadata": {},
   "source": [
    "Now we are going to apply one hot encoding to the events: received, viewed and completed by merging the dataframes with a new column with a 1 value depending on the event"
   ]
  },
  {
   "cell_type": "code",
   "execution_count": 12,
   "metadata": {},
   "outputs": [],
   "source": [
    "def one_hot_events(received=received, viewed=viewed, completed=completed):\n",
    "    '''\n",
    "    this function creates a new cew column with one values according to the event\n",
    "    and then merge the dataframes\n",
    "    '''\n",
    "    # column with 1 value\n",
    "    received['offer_received'] = 1\n",
    "    viewed['offer_viewed'] = 1\n",
    "    completed['offer_completed'] = 1\n",
    "    \n",
    "    # merge the three dfs\n",
    "    event_df = received.merge(\n",
    "        viewed, how=\"left\", on=['customer_id', \"offer_id\"]).merge(\n",
    "        completed, how=\"left\", on=['customer_id', \"offer_id\"])\n",
    "    event_df.drop(columns=[\"event_x\", \"event_y\", \"event\"], inplace=True)\n",
    "    event_df.columns = ['customer_id', 'time_received', 'offer_id', 'offer_received',\n",
    "                        'time_viewed', 'offer_viewed', 'time_completed', 'reward', 'offer_completed']\n",
    "    \n",
    "    return event_df"
   ]
  },
  {
   "cell_type": "code",
   "execution_count": 13,
   "metadata": {},
   "outputs": [
    {
     "name": "stderr",
     "output_type": "stream",
     "text": [
      "<ipython-input-12-f9067a183086>:7: SettingWithCopyWarning: \n",
      "A value is trying to be set on a copy of a slice from a DataFrame.\n",
      "Try using .loc[row_indexer,col_indexer] = value instead\n",
      "\n",
      "See the caveats in the documentation: https://pandas.pydata.org/pandas-docs/stable/user_guide/indexing.html#returning-a-view-versus-a-copy\n",
      "  received['offer_received'] = 1\n",
      "<ipython-input-12-f9067a183086>:8: SettingWithCopyWarning: \n",
      "A value is trying to be set on a copy of a slice from a DataFrame.\n",
      "Try using .loc[row_indexer,col_indexer] = value instead\n",
      "\n",
      "See the caveats in the documentation: https://pandas.pydata.org/pandas-docs/stable/user_guide/indexing.html#returning-a-view-versus-a-copy\n",
      "  viewed['offer_viewed'] = 1\n",
      "<ipython-input-12-f9067a183086>:9: SettingWithCopyWarning: \n",
      "A value is trying to be set on a copy of a slice from a DataFrame.\n",
      "Try using .loc[row_indexer,col_indexer] = value instead\n",
      "\n",
      "See the caveats in the documentation: https://pandas.pydata.org/pandas-docs/stable/user_guide/indexing.html#returning-a-view-versus-a-copy\n",
      "  completed['offer_completed'] = 1\n"
     ]
    }
   ],
   "source": [
    "event_df = one_hot_events(received=received, viewed=viewed, completed=completed)"
   ]
  },
  {
   "cell_type": "markdown",
   "metadata": {},
   "source": [
    "Since we are interested in whether or not someone will respond to an offer, we are going to drop offers that weren't seen."
   ]
  },
  {
   "cell_type": "markdown",
   "metadata": {},
   "source": [
    "Also, we can see that there are some offers that were completed before viewed, so the customer completed the offer but he didn't know it exists. Since we are just interested in the offers that the customers responded to, we are going to drop offers completed before they were seen."
   ]
  },
  {
   "cell_type": "code",
   "execution_count": 14,
   "metadata": {},
   "outputs": [],
   "source": [
    "def clean_event_df(event_df=event_df):\n",
    "    '''\n",
    "    \n",
    "    '''\n",
    "    event_df = event_df[event_df['offer_viewed'] == 1]\n",
    "    \n",
    "    # we replace the nan with 1000 to then apply the customer_responded\n",
    "    # function\n",
    "    event_df.time_completed = event_df.time_completed.fillna(1000)\n",
    "    \n",
    "    def customer_responded(event_df=event_df):\n",
    "        '''\n",
    "        This function returns the values 0, 1 or nan depending on the values\n",
    "        of the 'time_completed' and 'time_viewed' columns\n",
    "        '''\n",
    "        if event_df['time_completed'] == 1000:\n",
    "            return 0\n",
    "        elif event_df['time_completed'] > event_df['time_viewed']:\n",
    "            return 1\n",
    "        else:\n",
    "            return np.nan\n",
    "    \n",
    "    # we create a new column applying the customer_responded function\n",
    "    event_df['customer_responded'] = event_df.apply(customer_responded, axis=1)\n",
    "    \n",
    "    # drop customers who viewed the offer after completed it\n",
    "    event_df.dropna(subset=['customer_responded'], inplace=True)\n",
    "    \n",
    "    # replace 1000 with nan again\n",
    "    event_df.time_completed = event_df.time_completed.replace(1000, np.nan)\n",
    "    \n",
    "    # drop the columns that we won't use to build the ML model\n",
    "    event_df.drop(columns=['time_received','offer_received','time_viewed','offer_viewed',\n",
    "                          'time_completed','reward','offer_completed'], inplace=True)\n",
    "    \n",
    "    return event_df"
   ]
  },
  {
   "cell_type": "code",
   "execution_count": 15,
   "metadata": {},
   "outputs": [
    {
     "name": "stderr",
     "output_type": "stream",
     "text": [
      "/home/hugo/anaconda3/lib/python3.8/site-packages/pandas/core/generic.py:5494: SettingWithCopyWarning: \n",
      "A value is trying to be set on a copy of a slice from a DataFrame.\n",
      "Try using .loc[row_indexer,col_indexer] = value instead\n",
      "\n",
      "See the caveats in the documentation: https://pandas.pydata.org/pandas-docs/stable/user_guide/indexing.html#returning-a-view-versus-a-copy\n",
      "  self[name] = value\n",
      "<ipython-input-14-aec0ef024c69>:24: SettingWithCopyWarning: \n",
      "A value is trying to be set on a copy of a slice from a DataFrame.\n",
      "Try using .loc[row_indexer,col_indexer] = value instead\n",
      "\n",
      "See the caveats in the documentation: https://pandas.pydata.org/pandas-docs/stable/user_guide/indexing.html#returning-a-view-versus-a-copy\n",
      "  event_df['customer_responded'] = event_df.apply(customer_responded, axis=1)\n",
      "<ipython-input-14-aec0ef024c69>:27: SettingWithCopyWarning: \n",
      "A value is trying to be set on a copy of a slice from a DataFrame\n",
      "\n",
      "See the caveats in the documentation: https://pandas.pydata.org/pandas-docs/stable/user_guide/indexing.html#returning-a-view-versus-a-copy\n",
      "  event_df.dropna(subset=['customer_responded'], inplace=True)\n",
      "/home/hugo/anaconda3/lib/python3.8/site-packages/pandas/core/generic.py:5494: SettingWithCopyWarning: \n",
      "A value is trying to be set on a copy of a slice from a DataFrame.\n",
      "Try using .loc[row_indexer,col_indexer] = value instead\n",
      "\n",
      "See the caveats in the documentation: https://pandas.pydata.org/pandas-docs/stable/user_guide/indexing.html#returning-a-view-versus-a-copy\n",
      "  self[name] = value\n",
      "/home/hugo/anaconda3/lib/python3.8/site-packages/pandas/core/frame.py:4308: SettingWithCopyWarning: \n",
      "A value is trying to be set on a copy of a slice from a DataFrame\n",
      "\n",
      "See the caveats in the documentation: https://pandas.pydata.org/pandas-docs/stable/user_guide/indexing.html#returning-a-view-versus-a-copy\n",
      "  return super().drop(\n"
     ]
    }
   ],
   "source": [
    "event_df = clean_event_df(event_df=event_df)"
   ]
  },
  {
   "cell_type": "code",
   "execution_count": 16,
   "metadata": {},
   "outputs": [
    {
     "data": {
      "text/html": [
       "<div>\n",
       "<style scoped>\n",
       "    .dataframe tbody tr th:only-of-type {\n",
       "        vertical-align: middle;\n",
       "    }\n",
       "\n",
       "    .dataframe tbody tr th {\n",
       "        vertical-align: top;\n",
       "    }\n",
       "\n",
       "    .dataframe thead th {\n",
       "        text-align: right;\n",
       "    }\n",
       "</style>\n",
       "<table border=\"1\" class=\"dataframe\">\n",
       "  <thead>\n",
       "    <tr style=\"text-align: right;\">\n",
       "      <th></th>\n",
       "      <th>customer_id</th>\n",
       "      <th>offer_id</th>\n",
       "      <th>customer_responded</th>\n",
       "    </tr>\n",
       "  </thead>\n",
       "  <tbody>\n",
       "    <tr>\n",
       "      <th>0</th>\n",
       "      <td>78afa995795e4d85b5d9ceeca43f5fef</td>\n",
       "      <td>9b98b8c7a33c4b65b9aebfe6a799e6d9</td>\n",
       "      <td>1.0</td>\n",
       "    </tr>\n",
       "    <tr>\n",
       "      <th>1</th>\n",
       "      <td>a03223e636434f42ac4c3df47e8bac43</td>\n",
       "      <td>0b1e1539f2cc45b7b9fa7c272da2e1d7</td>\n",
       "      <td>0.0</td>\n",
       "    </tr>\n",
       "    <tr>\n",
       "      <th>2</th>\n",
       "      <td>a03223e636434f42ac4c3df47e8bac43</td>\n",
       "      <td>0b1e1539f2cc45b7b9fa7c272da2e1d7</td>\n",
       "      <td>0.0</td>\n",
       "    </tr>\n",
       "    <tr>\n",
       "      <th>3</th>\n",
       "      <td>e2127556f4f64592b11af22de27a7932</td>\n",
       "      <td>2906b810c7d4411798c6938adc9daaa5</td>\n",
       "      <td>0.0</td>\n",
       "    </tr>\n",
       "    <tr>\n",
       "      <th>4</th>\n",
       "      <td>8ec6ce2a7e7949b1bf142def7d0e0586</td>\n",
       "      <td>fafdcd668e3743c1bb461111dcafc2a4</td>\n",
       "      <td>0.0</td>\n",
       "    </tr>\n",
       "  </tbody>\n",
       "</table>\n",
       "</div>"
      ],
      "text/plain": [
       "                        customer_id                          offer_id  \\\n",
       "0  78afa995795e4d85b5d9ceeca43f5fef  9b98b8c7a33c4b65b9aebfe6a799e6d9   \n",
       "1  a03223e636434f42ac4c3df47e8bac43  0b1e1539f2cc45b7b9fa7c272da2e1d7   \n",
       "2  a03223e636434f42ac4c3df47e8bac43  0b1e1539f2cc45b7b9fa7c272da2e1d7   \n",
       "3  e2127556f4f64592b11af22de27a7932  2906b810c7d4411798c6938adc9daaa5   \n",
       "4  8ec6ce2a7e7949b1bf142def7d0e0586  fafdcd668e3743c1bb461111dcafc2a4   \n",
       "\n",
       "   customer_responded  \n",
       "0                 1.0  \n",
       "1                 0.0  \n",
       "2                 0.0  \n",
       "3                 0.0  \n",
       "4                 0.0  "
      ]
     },
     "execution_count": 16,
     "metadata": {},
     "output_type": "execute_result"
    }
   ],
   "source": [
    "event_df.head()"
   ]
  },
  {
   "cell_type": "markdown",
   "metadata": {},
   "source": [
    "### Transaction df"
   ]
  },
  {
   "cell_type": "markdown",
   "metadata": {},
   "source": [
    "We're going to calculate the number of transactions per user and the total amount per user. This information can be valuable to add to the profile df:\n",
    "\n",
    "- Number of transactions\n",
    "- Total amount"
   ]
  },
  {
   "cell_type": "code",
   "execution_count": 17,
   "metadata": {},
   "outputs": [
    {
     "data": {
      "text/html": [
       "<div>\n",
       "<style scoped>\n",
       "    .dataframe tbody tr th:only-of-type {\n",
       "        vertical-align: middle;\n",
       "    }\n",
       "\n",
       "    .dataframe tbody tr th {\n",
       "        vertical-align: top;\n",
       "    }\n",
       "\n",
       "    .dataframe thead th {\n",
       "        text-align: right;\n",
       "    }\n",
       "</style>\n",
       "<table border=\"1\" class=\"dataframe\">\n",
       "  <thead>\n",
       "    <tr style=\"text-align: right;\">\n",
       "      <th></th>\n",
       "      <th>customer_id</th>\n",
       "      <th>event</th>\n",
       "      <th>time</th>\n",
       "      <th>amount</th>\n",
       "    </tr>\n",
       "  </thead>\n",
       "  <tbody>\n",
       "    <tr>\n",
       "      <th>12654</th>\n",
       "      <td>02c083884c7d45b39cc68e1314fec56c</td>\n",
       "      <td>transaction</td>\n",
       "      <td>0</td>\n",
       "      <td>0.83</td>\n",
       "    </tr>\n",
       "    <tr>\n",
       "      <th>12657</th>\n",
       "      <td>9fa9ae8f57894cc9a3b8a9bbe0fc1b2f</td>\n",
       "      <td>transaction</td>\n",
       "      <td>0</td>\n",
       "      <td>34.56</td>\n",
       "    </tr>\n",
       "    <tr>\n",
       "      <th>12659</th>\n",
       "      <td>54890f68699049c2a04d415abc25e717</td>\n",
       "      <td>transaction</td>\n",
       "      <td>0</td>\n",
       "      <td>13.23</td>\n",
       "    </tr>\n",
       "    <tr>\n",
       "      <th>12670</th>\n",
       "      <td>b2f1cd155b864803ad8334cdf13c4bd2</td>\n",
       "      <td>transaction</td>\n",
       "      <td>0</td>\n",
       "      <td>19.51</td>\n",
       "    </tr>\n",
       "    <tr>\n",
       "      <th>12671</th>\n",
       "      <td>fe97aa22dd3e48c8b143116a8403dd52</td>\n",
       "      <td>transaction</td>\n",
       "      <td>0</td>\n",
       "      <td>18.97</td>\n",
       "    </tr>\n",
       "  </tbody>\n",
       "</table>\n",
       "</div>"
      ],
      "text/plain": [
       "                            customer_id        event  time  amount\n",
       "12654  02c083884c7d45b39cc68e1314fec56c  transaction     0    0.83\n",
       "12657  9fa9ae8f57894cc9a3b8a9bbe0fc1b2f  transaction     0   34.56\n",
       "12659  54890f68699049c2a04d415abc25e717  transaction     0   13.23\n",
       "12670  b2f1cd155b864803ad8334cdf13c4bd2  transaction     0   19.51\n",
       "12671  fe97aa22dd3e48c8b143116a8403dd52  transaction     0   18.97"
      ]
     },
     "execution_count": 17,
     "metadata": {},
     "output_type": "execute_result"
    }
   ],
   "source": [
    "transaction.head()"
   ]
  },
  {
   "cell_type": "markdown",
   "metadata": {},
   "source": [
    "## Portfolio (offers info) data manipulation"
   ]
  },
  {
   "cell_type": "code",
   "execution_count": 18,
   "metadata": {},
   "outputs": [
    {
     "data": {
      "text/html": [
       "<div>\n",
       "<style scoped>\n",
       "    .dataframe tbody tr th:only-of-type {\n",
       "        vertical-align: middle;\n",
       "    }\n",
       "\n",
       "    .dataframe tbody tr th {\n",
       "        vertical-align: top;\n",
       "    }\n",
       "\n",
       "    .dataframe thead th {\n",
       "        text-align: right;\n",
       "    }\n",
       "</style>\n",
       "<table border=\"1\" class=\"dataframe\">\n",
       "  <thead>\n",
       "    <tr style=\"text-align: right;\">\n",
       "      <th></th>\n",
       "      <th>reward</th>\n",
       "      <th>channels</th>\n",
       "      <th>difficulty</th>\n",
       "      <th>duration</th>\n",
       "      <th>offer_type</th>\n",
       "      <th>id</th>\n",
       "    </tr>\n",
       "  </thead>\n",
       "  <tbody>\n",
       "    <tr>\n",
       "      <th>0</th>\n",
       "      <td>10</td>\n",
       "      <td>[email, mobile, social]</td>\n",
       "      <td>10</td>\n",
       "      <td>7</td>\n",
       "      <td>bogo</td>\n",
       "      <td>ae264e3637204a6fb9bb56bc8210ddfd</td>\n",
       "    </tr>\n",
       "    <tr>\n",
       "      <th>1</th>\n",
       "      <td>10</td>\n",
       "      <td>[web, email, mobile, social]</td>\n",
       "      <td>10</td>\n",
       "      <td>5</td>\n",
       "      <td>bogo</td>\n",
       "      <td>4d5c57ea9a6940dd891ad53e9dbe8da0</td>\n",
       "    </tr>\n",
       "    <tr>\n",
       "      <th>2</th>\n",
       "      <td>0</td>\n",
       "      <td>[web, email, mobile]</td>\n",
       "      <td>0</td>\n",
       "      <td>4</td>\n",
       "      <td>informational</td>\n",
       "      <td>3f207df678b143eea3cee63160fa8bed</td>\n",
       "    </tr>\n",
       "    <tr>\n",
       "      <th>3</th>\n",
       "      <td>5</td>\n",
       "      <td>[web, email, mobile]</td>\n",
       "      <td>5</td>\n",
       "      <td>7</td>\n",
       "      <td>bogo</td>\n",
       "      <td>9b98b8c7a33c4b65b9aebfe6a799e6d9</td>\n",
       "    </tr>\n",
       "    <tr>\n",
       "      <th>4</th>\n",
       "      <td>5</td>\n",
       "      <td>[web, email]</td>\n",
       "      <td>20</td>\n",
       "      <td>10</td>\n",
       "      <td>discount</td>\n",
       "      <td>0b1e1539f2cc45b7b9fa7c272da2e1d7</td>\n",
       "    </tr>\n",
       "  </tbody>\n",
       "</table>\n",
       "</div>"
      ],
      "text/plain": [
       "   reward                      channels  difficulty  duration     offer_type  \\\n",
       "0      10       [email, mobile, social]          10         7           bogo   \n",
       "1      10  [web, email, mobile, social]          10         5           bogo   \n",
       "2       0          [web, email, mobile]           0         4  informational   \n",
       "3       5          [web, email, mobile]           5         7           bogo   \n",
       "4       5                  [web, email]          20        10       discount   \n",
       "\n",
       "                                 id  \n",
       "0  ae264e3637204a6fb9bb56bc8210ddfd  \n",
       "1  4d5c57ea9a6940dd891ad53e9dbe8da0  \n",
       "2  3f207df678b143eea3cee63160fa8bed  \n",
       "3  9b98b8c7a33c4b65b9aebfe6a799e6d9  \n",
       "4  0b1e1539f2cc45b7b9fa7c272da2e1d7  "
      ]
     },
     "execution_count": 18,
     "metadata": {},
     "output_type": "execute_result"
    }
   ],
   "source": [
    "portfolio.head()"
   ]
  },
  {
   "cell_type": "markdown",
   "metadata": {},
   "source": [
    "In this dataframe we can make the following modifications:\n",
    "\n",
    "- binary data of each channel (one hot encoding)\n",
    "- binary data of each offer_type (one hot encoding)"
   ]
  },
  {
   "cell_type": "code",
   "execution_count": 19,
   "metadata": {},
   "outputs": [],
   "source": [
    "def one_hot_channels_offer_type(portfolio=portfolio):\n",
    "    '''\n",
    "    this function applies one hot encoding in the channels column of the portfolio df\n",
    "    '''\n",
    "    channels_list = ['web', 'email', 'mobile', 'social']\n",
    "    portfolio['web_channel'] = portfolio['channels'].apply(lambda x: 1 if channels_list[0] in x else 0)\n",
    "    portfolio['email_channel'] = portfolio['channels'].apply(lambda x: 1 if channels_list[1] in x else 0)\n",
    "    portfolio['mobile_channel'] = portfolio['channels'].apply(lambda x: 1 if channels_list[2] in x else 0)\n",
    "    portfolio['social_channel'] = portfolio['channels'].apply(lambda x: 1 if channels_list[3] in x else 0)\n",
    "    \n",
    "    # drop the channels columns\n",
    "    portfolio.drop(columns=[\"channels\"], inplace=True)\n",
    "    \n",
    "    # one hot offer_type\n",
    "    try:\n",
    "        portfolio = pd.get_dummies(portfolio, columns=['offer_type'], prefix=\"offer_type_\")\n",
    "    except:\n",
    "        pass\n",
    "    \n",
    "    portfolio.columns = ['reward', 'difficulty', 'duration', 'offer_id', 'web_channel', 'email_channel', \n",
    "                     'mobile_channel', 'social_channel', 'offer_type__bogo','offer_type__discount',\n",
    "                     'offer_type__informational']\n",
    "    \n",
    "    return portfolio\n",
    "\n",
    "portfolio = one_hot_channels_offer_type(portfolio=portfolio)"
   ]
  },
  {
   "cell_type": "code",
   "execution_count": 20,
   "metadata": {},
   "outputs": [
    {
     "data": {
      "image/png": "[encoded data removed]",
      "text/plain": [
       "<Figure size 720x360 with 4 Axes>"
      ]
     },
     "metadata": {
      "needs_background": "light"
     },
     "output_type": "display_data"
    }
   ],
   "source": [
    "portfolio[['difficulty', 'duration', 'reward']].hist(bins=50, figsize=(10, 5));"
   ]
  },
  {
   "cell_type": "code",
   "execution_count": 21,
   "metadata": {},
   "outputs": [
    {
     "data": {
      "text/html": [
       "<div>\n",
       "<style scoped>\n",
       "    .dataframe tbody tr th:only-of-type {\n",
       "        vertical-align: middle;\n",
       "    }\n",
       "\n",
       "    .dataframe tbody tr th {\n",
       "        vertical-align: top;\n",
       "    }\n",
       "\n",
       "    .dataframe thead th {\n",
       "        text-align: right;\n",
       "    }\n",
       "</style>\n",
       "<table border=\"1\" class=\"dataframe\">\n",
       "  <thead>\n",
       "    <tr style=\"text-align: right;\">\n",
       "      <th></th>\n",
       "      <th>reward</th>\n",
       "      <th>difficulty</th>\n",
       "      <th>duration</th>\n",
       "      <th>offer_id</th>\n",
       "      <th>web_channel</th>\n",
       "      <th>email_channel</th>\n",
       "      <th>mobile_channel</th>\n",
       "      <th>social_channel</th>\n",
       "      <th>offer_type__bogo</th>\n",
       "      <th>offer_type__discount</th>\n",
       "      <th>offer_type__informational</th>\n",
       "    </tr>\n",
       "  </thead>\n",
       "  <tbody>\n",
       "    <tr>\n",
       "      <th>4</th>\n",
       "      <td>5</td>\n",
       "      <td>20</td>\n",
       "      <td>10</td>\n",
       "      <td>0b1e1539f2cc45b7b9fa7c272da2e1d7</td>\n",
       "      <td>1</td>\n",
       "      <td>1</td>\n",
       "      <td>0</td>\n",
       "      <td>0</td>\n",
       "      <td>0</td>\n",
       "      <td>1</td>\n",
       "      <td>0</td>\n",
       "    </tr>\n",
       "    <tr>\n",
       "      <th>5</th>\n",
       "      <td>3</td>\n",
       "      <td>7</td>\n",
       "      <td>7</td>\n",
       "      <td>2298d6c36e964ae4a3e7e9706d1fb8c2</td>\n",
       "      <td>1</td>\n",
       "      <td>1</td>\n",
       "      <td>1</td>\n",
       "      <td>1</td>\n",
       "      <td>0</td>\n",
       "      <td>1</td>\n",
       "      <td>0</td>\n",
       "    </tr>\n",
       "    <tr>\n",
       "      <th>6</th>\n",
       "      <td>2</td>\n",
       "      <td>10</td>\n",
       "      <td>10</td>\n",
       "      <td>fafdcd668e3743c1bb461111dcafc2a4</td>\n",
       "      <td>1</td>\n",
       "      <td>1</td>\n",
       "      <td>1</td>\n",
       "      <td>1</td>\n",
       "      <td>0</td>\n",
       "      <td>1</td>\n",
       "      <td>0</td>\n",
       "    </tr>\n",
       "    <tr>\n",
       "      <th>9</th>\n",
       "      <td>2</td>\n",
       "      <td>10</td>\n",
       "      <td>7</td>\n",
       "      <td>2906b810c7d4411798c6938adc9daaa5</td>\n",
       "      <td>1</td>\n",
       "      <td>1</td>\n",
       "      <td>1</td>\n",
       "      <td>0</td>\n",
       "      <td>0</td>\n",
       "      <td>1</td>\n",
       "      <td>0</td>\n",
       "    </tr>\n",
       "  </tbody>\n",
       "</table>\n",
       "</div>"
      ],
      "text/plain": [
       "   reward  difficulty  duration                          offer_id  \\\n",
       "4       5          20        10  0b1e1539f2cc45b7b9fa7c272da2e1d7   \n",
       "5       3           7         7  2298d6c36e964ae4a3e7e9706d1fb8c2   \n",
       "6       2          10        10  fafdcd668e3743c1bb461111dcafc2a4   \n",
       "9       2          10         7  2906b810c7d4411798c6938adc9daaa5   \n",
       "\n",
       "   web_channel  email_channel  mobile_channel  social_channel  \\\n",
       "4            1              1               0               0   \n",
       "5            1              1               1               1   \n",
       "6            1              1               1               1   \n",
       "9            1              1               1               0   \n",
       "\n",
       "   offer_type__bogo  offer_type__discount  offer_type__informational  \n",
       "4                 0                     1                          0  \n",
       "5                 0                     1                          0  \n",
       "6                 0                     1                          0  \n",
       "9                 0                     1                          0  "
      ]
     },
     "execution_count": 21,
     "metadata": {},
     "output_type": "execute_result"
    }
   ],
   "source": [
    "portfolio[portfolio.offer_type__discount == 1]"
   ]
  },
  {
   "cell_type": "code",
   "execution_count": 22,
   "metadata": {},
   "outputs": [
    {
     "data": {
      "text/plain": [
       "(10, 11)"
      ]
     },
     "execution_count": 22,
     "metadata": {},
     "output_type": "execute_result"
    }
   ],
   "source": [
    "portfolio.shape"
   ]
  },
  {
   "cell_type": "markdown",
   "metadata": {},
   "source": [
    "# Profile (customer's data)"
   ]
  },
  {
   "cell_type": "code",
   "execution_count": 23,
   "metadata": {},
   "outputs": [
    {
     "data": {
      "text/html": [
       "<div>\n",
       "<style scoped>\n",
       "    .dataframe tbody tr th:only-of-type {\n",
       "        vertical-align: middle;\n",
       "    }\n",
       "\n",
       "    .dataframe tbody tr th {\n",
       "        vertical-align: top;\n",
       "    }\n",
       "\n",
       "    .dataframe thead th {\n",
       "        text-align: right;\n",
       "    }\n",
       "</style>\n",
       "<table border=\"1\" class=\"dataframe\">\n",
       "  <thead>\n",
       "    <tr style=\"text-align: right;\">\n",
       "      <th></th>\n",
       "      <th>gender</th>\n",
       "      <th>age</th>\n",
       "      <th>id</th>\n",
       "      <th>became_member_on</th>\n",
       "      <th>income</th>\n",
       "    </tr>\n",
       "  </thead>\n",
       "  <tbody>\n",
       "    <tr>\n",
       "      <th>0</th>\n",
       "      <td>None</td>\n",
       "      <td>118</td>\n",
       "      <td>68be06ca386d4c31939f3a4f0e3dd783</td>\n",
       "      <td>20170212</td>\n",
       "      <td>NaN</td>\n",
       "    </tr>\n",
       "    <tr>\n",
       "      <th>1</th>\n",
       "      <td>F</td>\n",
       "      <td>55</td>\n",
       "      <td>0610b486422d4921ae7d2bf64640c50b</td>\n",
       "      <td>20170715</td>\n",
       "      <td>112000.0</td>\n",
       "    </tr>\n",
       "    <tr>\n",
       "      <th>2</th>\n",
       "      <td>None</td>\n",
       "      <td>118</td>\n",
       "      <td>38fe809add3b4fcf9315a9694bb96ff5</td>\n",
       "      <td>20180712</td>\n",
       "      <td>NaN</td>\n",
       "    </tr>\n",
       "    <tr>\n",
       "      <th>3</th>\n",
       "      <td>F</td>\n",
       "      <td>75</td>\n",
       "      <td>78afa995795e4d85b5d9ceeca43f5fef</td>\n",
       "      <td>20170509</td>\n",
       "      <td>100000.0</td>\n",
       "    </tr>\n",
       "    <tr>\n",
       "      <th>4</th>\n",
       "      <td>None</td>\n",
       "      <td>118</td>\n",
       "      <td>a03223e636434f42ac4c3df47e8bac43</td>\n",
       "      <td>20170804</td>\n",
       "      <td>NaN</td>\n",
       "    </tr>\n",
       "  </tbody>\n",
       "</table>\n",
       "</div>"
      ],
      "text/plain": [
       "  gender  age                                id  became_member_on    income\n",
       "0   None  118  68be06ca386d4c31939f3a4f0e3dd783          20170212       NaN\n",
       "1      F   55  0610b486422d4921ae7d2bf64640c50b          20170715  112000.0\n",
       "2   None  118  38fe809add3b4fcf9315a9694bb96ff5          20180712       NaN\n",
       "3      F   75  78afa995795e4d85b5d9ceeca43f5fef          20170509  100000.0\n",
       "4   None  118  a03223e636434f42ac4c3df47e8bac43          20170804       NaN"
      ]
     },
     "execution_count": 23,
     "metadata": {},
     "output_type": "execute_result"
    }
   ],
   "source": [
    "profile.head()"
   ]
  },
  {
   "cell_type": "markdown",
   "metadata": {},
   "source": [
    "In this dataframe we can do the following modifications:\n",
    "\n",
    "- total time using the app\n",
    "- one hot encoding of gender"
   ]
  },
  {
   "cell_type": "code",
   "execution_count": 24,
   "metadata": {},
   "outputs": [
    {
     "data": {
      "text/plain": [
       "count    17000.000000\n",
       "mean        62.531412\n",
       "std         26.738580\n",
       "min         18.000000\n",
       "25%         45.000000\n",
       "50%         58.000000\n",
       "75%         73.000000\n",
       "max        118.000000\n",
       "Name: age, dtype: float64"
      ]
     },
     "execution_count": 24,
     "metadata": {},
     "output_type": "execute_result"
    }
   ],
   "source": [
    "profile.age.describe()"
   ]
  },
  {
   "cell_type": "markdown",
   "metadata": {},
   "source": [
    "We can see that probably customers who didn't inform their age, are registered as 118 years old, which don't make sense."
   ]
  },
  {
   "cell_type": "code",
   "execution_count": 25,
   "metadata": {},
   "outputs": [
    {
     "data": {
      "text/plain": [
       "(0.12794117647058822, 0.12794117647058822)"
      ]
     },
     "execution_count": 25,
     "metadata": {},
     "output_type": "execute_result"
    }
   ],
   "source": [
    "(profile['age'] == 118).sum()/len(profile), profile['income'].isna().sum()/len(profile)"
   ]
  },
  {
   "cell_type": "markdown",
   "metadata": {},
   "source": [
    "We can see that the percentage of people who didn't inform age is the same as people who didn't inform their income and their gender as well. And, since this percentage is relatively small (13%) it makes sense if we drop the these rows, because we're not going to lose too much information."
   ]
  },
  {
   "cell_type": "code",
   "execution_count": 26,
   "metadata": {},
   "outputs": [
    {
     "data": {
      "text/html": [
       "<div>\n",
       "<style scoped>\n",
       "    .dataframe tbody tr th:only-of-type {\n",
       "        vertical-align: middle;\n",
       "    }\n",
       "\n",
       "    .dataframe tbody tr th {\n",
       "        vertical-align: top;\n",
       "    }\n",
       "\n",
       "    .dataframe thead th {\n",
       "        text-align: right;\n",
       "    }\n",
       "</style>\n",
       "<table border=\"1\" class=\"dataframe\">\n",
       "  <thead>\n",
       "    <tr style=\"text-align: right;\">\n",
       "      <th></th>\n",
       "      <th>age</th>\n",
       "      <th>id</th>\n",
       "      <th>income</th>\n",
       "      <th>gender__F</th>\n",
       "      <th>gender__M</th>\n",
       "      <th>gender__O</th>\n",
       "      <th>days_as_member</th>\n",
       "    </tr>\n",
       "  </thead>\n",
       "  <tbody>\n",
       "    <tr>\n",
       "      <th>1</th>\n",
       "      <td>55</td>\n",
       "      <td>0610b486422d4921ae7d2bf64640c50b</td>\n",
       "      <td>112000.0</td>\n",
       "      <td>1</td>\n",
       "      <td>0</td>\n",
       "      <td>0</td>\n",
       "      <td>1656</td>\n",
       "    </tr>\n",
       "    <tr>\n",
       "      <th>3</th>\n",
       "      <td>75</td>\n",
       "      <td>78afa995795e4d85b5d9ceeca43f5fef</td>\n",
       "      <td>100000.0</td>\n",
       "      <td>1</td>\n",
       "      <td>0</td>\n",
       "      <td>0</td>\n",
       "      <td>1723</td>\n",
       "    </tr>\n",
       "    <tr>\n",
       "      <th>5</th>\n",
       "      <td>68</td>\n",
       "      <td>e2127556f4f64592b11af22de27a7932</td>\n",
       "      <td>70000.0</td>\n",
       "      <td>0</td>\n",
       "      <td>1</td>\n",
       "      <td>0</td>\n",
       "      <td>1371</td>\n",
       "    </tr>\n",
       "    <tr>\n",
       "      <th>8</th>\n",
       "      <td>65</td>\n",
       "      <td>389bc3fa690240e798340f5a15918d5c</td>\n",
       "      <td>53000.0</td>\n",
       "      <td>0</td>\n",
       "      <td>1</td>\n",
       "      <td>0</td>\n",
       "      <td>1447</td>\n",
       "    </tr>\n",
       "    <tr>\n",
       "      <th>12</th>\n",
       "      <td>58</td>\n",
       "      <td>2eeac8d8feae4a8cad5a6af0499a211d</td>\n",
       "      <td>51000.0</td>\n",
       "      <td>0</td>\n",
       "      <td>1</td>\n",
       "      <td>0</td>\n",
       "      <td>1537</td>\n",
       "    </tr>\n",
       "  </tbody>\n",
       "</table>\n",
       "</div>"
      ],
      "text/plain": [
       "    age                                id    income  gender__F  gender__M  \\\n",
       "1    55  0610b486422d4921ae7d2bf64640c50b  112000.0          1          0   \n",
       "3    75  78afa995795e4d85b5d9ceeca43f5fef  100000.0          1          0   \n",
       "5    68  e2127556f4f64592b11af22de27a7932   70000.0          0          1   \n",
       "8    65  389bc3fa690240e798340f5a15918d5c   53000.0          0          1   \n",
       "12   58  2eeac8d8feae4a8cad5a6af0499a211d   51000.0          0          1   \n",
       "\n",
       "    gender__O  days_as_member  \n",
       "1           0            1656  \n",
       "3           0            1723  \n",
       "5           0            1371  \n",
       "8           0            1447  \n",
       "12          0            1537  "
      ]
     },
     "execution_count": 26,
     "metadata": {},
     "output_type": "execute_result"
    }
   ],
   "source": [
    "def modify_profile(profile=profile):\n",
    "    try:\n",
    "        profile = pd.get_dummies(profile, columns=['gender'], dummy_na=False, prefix=\"gender_\")\n",
    "    except:\n",
    "        pass\n",
    "    \n",
    "    profile.became_member_on = pd.to_datetime(profile.became_member_on.apply(str), format='%Y%m%d')\n",
    "    \n",
    "    profile['now'] = pd.to_datetime('now')\n",
    "    profile['days_as_member'] = (profile['now'] - profile['became_member_on']).dt.days\n",
    "    profile.drop(columns=['became_member_on', 'now'], inplace=True)\n",
    "    \n",
    "    # drop nan\n",
    "    profile.dropna(subset=['income'], inplace=True)\n",
    "    \n",
    "    return profile\n",
    "\n",
    "profile = modify_profile()\n",
    "profile.head()"
   ]
  },
  {
   "cell_type": "code",
   "execution_count": 27,
   "metadata": {},
   "outputs": [
    {
     "data": {
      "image/png": "[encoded data removed]",
      "text/plain": [
       "<Figure size 720x360 with 4 Axes>"
      ]
     },
     "metadata": {
      "needs_background": "light"
     },
     "output_type": "display_data"
    }
   ],
   "source": [
    "profile[['age', 'income', 'days_as_member']].hist(bins=30, figsize=(10, 5));"
   ]
  },
  {
   "cell_type": "code",
   "execution_count": 28,
   "metadata": {},
   "outputs": [],
   "source": [
    "def merge_profile_df(profile=profile, transaction=transaction):\n",
    "    '''\n",
    "    this function merge the profile df with data from transaction df\n",
    "    '''\n",
    "    # number of transactions per customer\n",
    "    number_of_transactions = pd.DataFrame(\n",
    "        transaction.groupby(['customer_id']).size(), columns=['number_of_transactions']).reset_index(level=0)\n",
    "    number_of_transactions.columns = ['customer_id', 'number_of_transactions']\n",
    "    \n",
    "    # merge the number of transactions on customer_id\n",
    "    profile.columns = ['age', 'customer_id', 'income', 'gender__F', 'gender__M', 'gender__O', 'days_as_member']\n",
    "    profile = profile.merge(number_of_transactions, how='left', on='customer_id')\n",
    "    \n",
    "    # total amount spent per customer\n",
    "    total_amount = pd.DataFrame(transaction.groupby(['customer_id']).sum()['amount'])\n",
    "    total_amount = total_amount.reset_index(level=0)\n",
    "    total_amount.columns = ['customer_id', 'total_amount']\n",
    "    \n",
    "    # merge the total_amount on customer_id\n",
    "    profile = profile.merge(total_amount, how='left', on='customer_id')\n",
    "    \n",
    "    return profile"
   ]
  },
  {
   "cell_type": "code",
   "execution_count": 29,
   "metadata": {},
   "outputs": [
    {
     "data": {
      "text/html": [
       "<div>\n",
       "<style scoped>\n",
       "    .dataframe tbody tr th:only-of-type {\n",
       "        vertical-align: middle;\n",
       "    }\n",
       "\n",
       "    .dataframe tbody tr th {\n",
       "        vertical-align: top;\n",
       "    }\n",
       "\n",
       "    .dataframe thead th {\n",
       "        text-align: right;\n",
       "    }\n",
       "</style>\n",
       "<table border=\"1\" class=\"dataframe\">\n",
       "  <thead>\n",
       "    <tr style=\"text-align: right;\">\n",
       "      <th></th>\n",
       "      <th>age</th>\n",
       "      <th>customer_id</th>\n",
       "      <th>income</th>\n",
       "      <th>gender__F</th>\n",
       "      <th>gender__M</th>\n",
       "      <th>gender__O</th>\n",
       "      <th>days_as_member</th>\n",
       "      <th>number_of_transactions</th>\n",
       "      <th>total_amount</th>\n",
       "    </tr>\n",
       "  </thead>\n",
       "  <tbody>\n",
       "    <tr>\n",
       "      <th>0</th>\n",
       "      <td>55</td>\n",
       "      <td>0610b486422d4921ae7d2bf64640c50b</td>\n",
       "      <td>112000.0</td>\n",
       "      <td>1</td>\n",
       "      <td>0</td>\n",
       "      <td>0</td>\n",
       "      <td>1656</td>\n",
       "      <td>3.0</td>\n",
       "      <td>77.01</td>\n",
       "    </tr>\n",
       "    <tr>\n",
       "      <th>1</th>\n",
       "      <td>75</td>\n",
       "      <td>78afa995795e4d85b5d9ceeca43f5fef</td>\n",
       "      <td>100000.0</td>\n",
       "      <td>1</td>\n",
       "      <td>0</td>\n",
       "      <td>0</td>\n",
       "      <td>1723</td>\n",
       "      <td>7.0</td>\n",
       "      <td>159.27</td>\n",
       "    </tr>\n",
       "    <tr>\n",
       "      <th>2</th>\n",
       "      <td>68</td>\n",
       "      <td>e2127556f4f64592b11af22de27a7932</td>\n",
       "      <td>70000.0</td>\n",
       "      <td>0</td>\n",
       "      <td>1</td>\n",
       "      <td>0</td>\n",
       "      <td>1371</td>\n",
       "      <td>3.0</td>\n",
       "      <td>57.73</td>\n",
       "    </tr>\n",
       "    <tr>\n",
       "      <th>3</th>\n",
       "      <td>65</td>\n",
       "      <td>389bc3fa690240e798340f5a15918d5c</td>\n",
       "      <td>53000.0</td>\n",
       "      <td>0</td>\n",
       "      <td>1</td>\n",
       "      <td>0</td>\n",
       "      <td>1447</td>\n",
       "      <td>3.0</td>\n",
       "      <td>36.43</td>\n",
       "    </tr>\n",
       "    <tr>\n",
       "      <th>4</th>\n",
       "      <td>58</td>\n",
       "      <td>2eeac8d8feae4a8cad5a6af0499a211d</td>\n",
       "      <td>51000.0</td>\n",
       "      <td>0</td>\n",
       "      <td>1</td>\n",
       "      <td>0</td>\n",
       "      <td>1537</td>\n",
       "      <td>4.0</td>\n",
       "      <td>15.62</td>\n",
       "    </tr>\n",
       "  </tbody>\n",
       "</table>\n",
       "</div>"
      ],
      "text/plain": [
       "   age                       customer_id    income  gender__F  gender__M  \\\n",
       "0   55  0610b486422d4921ae7d2bf64640c50b  112000.0          1          0   \n",
       "1   75  78afa995795e4d85b5d9ceeca43f5fef  100000.0          1          0   \n",
       "2   68  e2127556f4f64592b11af22de27a7932   70000.0          0          1   \n",
       "3   65  389bc3fa690240e798340f5a15918d5c   53000.0          0          1   \n",
       "4   58  2eeac8d8feae4a8cad5a6af0499a211d   51000.0          0          1   \n",
       "\n",
       "   gender__O  days_as_member  number_of_transactions  total_amount  \n",
       "0          0            1656                     3.0         77.01  \n",
       "1          0            1723                     7.0        159.27  \n",
       "2          0            1371                     3.0         57.73  \n",
       "3          0            1447                     3.0         36.43  \n",
       "4          0            1537                     4.0         15.62  "
      ]
     },
     "execution_count": 29,
     "metadata": {},
     "output_type": "execute_result"
    }
   ],
   "source": [
    "profile = merge_profile_df(profile=profile, transaction=transaction)\n",
    "profile.head()"
   ]
  },
  {
   "cell_type": "code",
   "execution_count": 30,
   "metadata": {},
   "outputs": [
    {
     "data": {
      "text/plain": [
       "(333, 333, 14825, 0.02246205733558179)"
      ]
     },
     "execution_count": 30,
     "metadata": {},
     "output_type": "execute_result"
    }
   ],
   "source": [
    "profile.number_of_transactions.isna().sum(), profile.total_amount.isna().sum(), len(profile), 333/len(profile)"
   ]
  },
  {
   "cell_type": "code",
   "execution_count": 31,
   "metadata": {},
   "outputs": [],
   "source": [
    "transactions_per_gender = profile[profile['gender__F']==1]['number_of_transactions'].mean(), profile[profile['gender__M']==1]['number_of_transactions'].mean(), profile[profile['gender__O']==1]['number_of_transactions'].mean()"
   ]
  },
  {
   "cell_type": "markdown",
   "metadata": {},
   "source": [
    "Since we have just 2.2% of missing values after the merge operation, it does make sense to drop the rows with missing values.\n",
    "\n",
    "The profile df after the merge provides interesting information of the consumption of the customers based on demographic data. So, we can make some visuals with this df."
   ]
  },
  {
   "cell_type": "code",
   "execution_count": 32,
   "metadata": {},
   "outputs": [
    {
     "data": {
      "image/png": "[encoded data removed]",
      "text/plain": [
       "<Figure size 720x504 with 6 Axes>"
      ]
     },
     "metadata": {},
     "output_type": "display_data"
    }
   ],
   "source": [
    "def plot_profile_transactions_dispersion():\n",
    "\n",
    "    sns.set_theme(style=\"whitegrid\")\n",
    "    \n",
    "    fig, ax = plt.subplots(3,2 , figsize=(10,7))\n",
    "    sns.scatterplot(data=profile, x=\"age\", y=\"number_of_transactions\", ax=ax[0,0])\n",
    "    ax[0,0].set_xlabel(\"Customer's age\")\n",
    "    ax[0,0].set_ylabel('Transactions')\n",
    "    ax[0,0].set_title(\"Transactions by customer's age\")\n",
    "    \n",
    "    sns.scatterplot(data=profile, x=\"age\", y=\"total_amount\", ax=ax[0,1])\n",
    "    ax[0,1].set_xlabel(\"Customer's age\")\n",
    "    ax[0,1].set_ylabel('Total spent ($)')\n",
    "    ax[0,1].set_title(\"Total spent ($) by customer's age\")\n",
    "    \n",
    "    sns.scatterplot(data=profile, x=\"income\", y=\"number_of_transactions\", ax=ax[1,0])\n",
    "    ax[1,0].set_xlabel(\"Customer's income\")\n",
    "    ax[1,0].set_ylabel('Transactions')\n",
    "    ax[1,0].set_title(\"Transactions by customer's income\")\n",
    "    \n",
    "    sns.scatterplot(data=profile, x=\"income\", y=\"total_amount\", ax=ax[1,1])\n",
    "    ax[1,1].set_xlabel(\"Customer's income\")\n",
    "    ax[1,1].set_ylabel('Total spent ($)')\n",
    "    ax[1,1].set_title(\"Total spent ($) by customer's income\")\n",
    "    \n",
    "    sns.scatterplot(data=profile, x=\"days_as_member\", y=\"number_of_transactions\", ax=ax[2,0])\n",
    "    ax[2,0].set_xlabel(\"Time as member (days)\")\n",
    "    ax[2,0].set_ylabel('Transactions')\n",
    "    ax[2,0].set_title(\"Transactions per customer's time as member\")\n",
    "    \n",
    "    sns.scatterplot(data=profile, x=\"days_as_member\", y=\"total_amount\", ax=ax[2,1])\n",
    "    ax[2,1].set_xlabel(\"Time as member (days)\")\n",
    "    ax[2,1].set_ylabel('Total spent ($)')\n",
    "    ax[2,1].set_title(\"Total spent ($) per customer's time as member\")\n",
    "    \n",
    "    plt.subplots_adjust(hspace = 0.7, wspace=.7)\n",
    "    \n",
    "plot_profile_transactions_dispersion()"
   ]
  },
  {
   "cell_type": "code",
   "execution_count": 33,
   "metadata": {},
   "outputs": [
    {
     "data": {
      "image/png": "[encoded data removed]",
      "text/plain": [
       "<Figure size 648x216 with 2 Axes>"
      ]
     },
     "metadata": {},
     "output_type": "display_data"
    }
   ],
   "source": [
    "def plot_profile_transactions_bar():\n",
    "    \n",
    "    transactions_per_gender = profile[\n",
    "        profile['gender__F']==1]['number_of_transactions'].mean(), profile[\n",
    "        profile['gender__M']==1]['number_of_transactions'].mean(), profile[\n",
    "        profile['gender__O']==1]['number_of_transactions'].mean()\n",
    "    \n",
    "    d1 = {\"gender\":[\"F\", \"M\", \"Other\"], \"transactions_per_gender\":list(transactions_per_gender)}    \n",
    "    transactions_per_gender = pd.DataFrame(d1)\n",
    "    \n",
    "    amount_per_gender = profile[\n",
    "        profile['gender__F']==1]['total_amount'].mean(), profile[\n",
    "        profile['gender__M']==1]['total_amount'].mean(), profile[\n",
    "        profile['gender__O']==1]['total_amount'].mean()\n",
    "    \n",
    "    d2 = {\"gender\":[\"F\", \"M\", \"Other\"], \"amount_per_gender\":list(amount_per_gender)}    \n",
    "    amount_per_gender = pd.DataFrame(d2)\n",
    "\n",
    "    sns.set_theme(style=\"whitegrid\")\n",
    "    \n",
    "    fig, ax = plt.subplots(1,2 , figsize=(9,3))\n",
    "    \n",
    "    sns.barplot(data = transactions_per_gender, x=\"gender\", y=\"transactions_per_gender\", ax=ax[0])\n",
    "    ax[0].set_ylabel('Transactions')\n",
    "    ax[0].set_title(\"Transactions by customer's gender\")\n",
    "    \n",
    "    sns.barplot(data=amount_per_gender, x=\"gender\", y=\"amount_per_gender\", ax=ax[1])\n",
    "    ax[1].set_ylabel('Total spent ($)')\n",
    "    ax[1].set_title(\"Total spent ($) by customer's gender\")\n",
    "    \n",
    "    plt.subplots_adjust(wspace=.4)\n",
    "    \n",
    "plot_profile_transactions_bar()"
   ]
  },
  {
   "cell_type": "markdown",
   "metadata": {},
   "source": [
    "# Merge all dataframes"
   ]
  },
  {
   "cell_type": "markdown",
   "metadata": {},
   "source": [
    "Let's add the customer's information to the event_df dataframe"
   ]
  },
  {
   "cell_type": "code",
   "execution_count": 34,
   "metadata": {},
   "outputs": [],
   "source": [
    "df = event_df.merge(profile, how='left', on='customer_id').dropna()"
   ]
  },
  {
   "cell_type": "markdown",
   "metadata": {},
   "source": [
    "And then, let's add the offer's information"
   ]
  },
  {
   "cell_type": "code",
   "execution_count": 35,
   "metadata": {},
   "outputs": [],
   "source": [
    "df = df.merge(portfolio, how='left', on='offer_id')"
   ]
  },
  {
   "cell_type": "code",
   "execution_count": 36,
   "metadata": {
    "scrolled": true
   },
   "outputs": [
    {
     "data": {
      "text/html": [
       "<div>\n",
       "<style scoped>\n",
       "    .dataframe tbody tr th:only-of-type {\n",
       "        vertical-align: middle;\n",
       "    }\n",
       "\n",
       "    .dataframe tbody tr th {\n",
       "        vertical-align: top;\n",
       "    }\n",
       "\n",
       "    .dataframe thead th {\n",
       "        text-align: right;\n",
       "    }\n",
       "</style>\n",
       "<table border=\"1\" class=\"dataframe\">\n",
       "  <thead>\n",
       "    <tr style=\"text-align: right;\">\n",
       "      <th></th>\n",
       "      <th>customer_id</th>\n",
       "      <th>offer_id</th>\n",
       "      <th>customer_responded</th>\n",
       "      <th>age</th>\n",
       "      <th>income</th>\n",
       "      <th>gender__F</th>\n",
       "      <th>gender__M</th>\n",
       "      <th>gender__O</th>\n",
       "      <th>days_as_member</th>\n",
       "      <th>number_of_transactions</th>\n",
       "      <th>...</th>\n",
       "      <th>reward</th>\n",
       "      <th>difficulty</th>\n",
       "      <th>duration</th>\n",
       "      <th>web_channel</th>\n",
       "      <th>email_channel</th>\n",
       "      <th>mobile_channel</th>\n",
       "      <th>social_channel</th>\n",
       "      <th>offer_type__bogo</th>\n",
       "      <th>offer_type__discount</th>\n",
       "      <th>offer_type__informational</th>\n",
       "    </tr>\n",
       "  </thead>\n",
       "  <tbody>\n",
       "    <tr>\n",
       "      <th>0</th>\n",
       "      <td>78afa995795e4d85b5d9ceeca43f5fef</td>\n",
       "      <td>9b98b8c7a33c4b65b9aebfe6a799e6d9</td>\n",
       "      <td>1.0</td>\n",
       "      <td>75.0</td>\n",
       "      <td>100000.0</td>\n",
       "      <td>1.0</td>\n",
       "      <td>0.0</td>\n",
       "      <td>0.0</td>\n",
       "      <td>1723.0</td>\n",
       "      <td>7.0</td>\n",
       "      <td>...</td>\n",
       "      <td>5</td>\n",
       "      <td>5</td>\n",
       "      <td>7</td>\n",
       "      <td>1</td>\n",
       "      <td>1</td>\n",
       "      <td>1</td>\n",
       "      <td>0</td>\n",
       "      <td>1</td>\n",
       "      <td>0</td>\n",
       "      <td>0</td>\n",
       "    </tr>\n",
       "    <tr>\n",
       "      <th>1</th>\n",
       "      <td>e2127556f4f64592b11af22de27a7932</td>\n",
       "      <td>2906b810c7d4411798c6938adc9daaa5</td>\n",
       "      <td>0.0</td>\n",
       "      <td>68.0</td>\n",
       "      <td>70000.0</td>\n",
       "      <td>0.0</td>\n",
       "      <td>1.0</td>\n",
       "      <td>0.0</td>\n",
       "      <td>1371.0</td>\n",
       "      <td>3.0</td>\n",
       "      <td>...</td>\n",
       "      <td>2</td>\n",
       "      <td>10</td>\n",
       "      <td>7</td>\n",
       "      <td>1</td>\n",
       "      <td>1</td>\n",
       "      <td>1</td>\n",
       "      <td>0</td>\n",
       "      <td>0</td>\n",
       "      <td>1</td>\n",
       "      <td>0</td>\n",
       "    </tr>\n",
       "    <tr>\n",
       "      <th>2</th>\n",
       "      <td>389bc3fa690240e798340f5a15918d5c</td>\n",
       "      <td>f19421c1d4aa40978ebb69ca19b0e20d</td>\n",
       "      <td>1.0</td>\n",
       "      <td>65.0</td>\n",
       "      <td>53000.0</td>\n",
       "      <td>0.0</td>\n",
       "      <td>1.0</td>\n",
       "      <td>0.0</td>\n",
       "      <td>1447.0</td>\n",
       "      <td>3.0</td>\n",
       "      <td>...</td>\n",
       "      <td>5</td>\n",
       "      <td>5</td>\n",
       "      <td>5</td>\n",
       "      <td>1</td>\n",
       "      <td>1</td>\n",
       "      <td>1</td>\n",
       "      <td>1</td>\n",
       "      <td>1</td>\n",
       "      <td>0</td>\n",
       "      <td>0</td>\n",
       "    </tr>\n",
       "    <tr>\n",
       "      <th>3</th>\n",
       "      <td>389bc3fa690240e798340f5a15918d5c</td>\n",
       "      <td>f19421c1d4aa40978ebb69ca19b0e20d</td>\n",
       "      <td>1.0</td>\n",
       "      <td>65.0</td>\n",
       "      <td>53000.0</td>\n",
       "      <td>0.0</td>\n",
       "      <td>1.0</td>\n",
       "      <td>0.0</td>\n",
       "      <td>1447.0</td>\n",
       "      <td>3.0</td>\n",
       "      <td>...</td>\n",
       "      <td>5</td>\n",
       "      <td>5</td>\n",
       "      <td>5</td>\n",
       "      <td>1</td>\n",
       "      <td>1</td>\n",
       "      <td>1</td>\n",
       "      <td>1</td>\n",
       "      <td>1</td>\n",
       "      <td>0</td>\n",
       "      <td>0</td>\n",
       "    </tr>\n",
       "    <tr>\n",
       "      <th>4</th>\n",
       "      <td>389bc3fa690240e798340f5a15918d5c</td>\n",
       "      <td>f19421c1d4aa40978ebb69ca19b0e20d</td>\n",
       "      <td>1.0</td>\n",
       "      <td>65.0</td>\n",
       "      <td>53000.0</td>\n",
       "      <td>0.0</td>\n",
       "      <td>1.0</td>\n",
       "      <td>0.0</td>\n",
       "      <td>1447.0</td>\n",
       "      <td>3.0</td>\n",
       "      <td>...</td>\n",
       "      <td>5</td>\n",
       "      <td>5</td>\n",
       "      <td>5</td>\n",
       "      <td>1</td>\n",
       "      <td>1</td>\n",
       "      <td>1</td>\n",
       "      <td>1</td>\n",
       "      <td>1</td>\n",
       "      <td>0</td>\n",
       "      <td>0</td>\n",
       "    </tr>\n",
       "  </tbody>\n",
       "</table>\n",
       "<p>5 rows × 21 columns</p>\n",
       "</div>"
      ],
      "text/plain": [
       "                        customer_id                          offer_id  \\\n",
       "0  78afa995795e4d85b5d9ceeca43f5fef  9b98b8c7a33c4b65b9aebfe6a799e6d9   \n",
       "1  e2127556f4f64592b11af22de27a7932  2906b810c7d4411798c6938adc9daaa5   \n",
       "2  389bc3fa690240e798340f5a15918d5c  f19421c1d4aa40978ebb69ca19b0e20d   \n",
       "3  389bc3fa690240e798340f5a15918d5c  f19421c1d4aa40978ebb69ca19b0e20d   \n",
       "4  389bc3fa690240e798340f5a15918d5c  f19421c1d4aa40978ebb69ca19b0e20d   \n",
       "\n",
       "   customer_responded   age    income  gender__F  gender__M  gender__O  \\\n",
       "0                 1.0  75.0  100000.0        1.0        0.0        0.0   \n",
       "1                 0.0  68.0   70000.0        0.0        1.0        0.0   \n",
       "2                 1.0  65.0   53000.0        0.0        1.0        0.0   \n",
       "3                 1.0  65.0   53000.0        0.0        1.0        0.0   \n",
       "4                 1.0  65.0   53000.0        0.0        1.0        0.0   \n",
       "\n",
       "   days_as_member  number_of_transactions  ...  reward  difficulty  duration  \\\n",
       "0          1723.0                     7.0  ...       5           5         7   \n",
       "1          1371.0                     3.0  ...       2          10         7   \n",
       "2          1447.0                     3.0  ...       5           5         5   \n",
       "3          1447.0                     3.0  ...       5           5         5   \n",
       "4          1447.0                     3.0  ...       5           5         5   \n",
       "\n",
       "   web_channel  email_channel  mobile_channel  social_channel  \\\n",
       "0            1              1               1               0   \n",
       "1            1              1               1               0   \n",
       "2            1              1               1               1   \n",
       "3            1              1               1               1   \n",
       "4            1              1               1               1   \n",
       "\n",
       "   offer_type__bogo  offer_type__discount  offer_type__informational  \n",
       "0                 1                     0                          0  \n",
       "1                 0                     1                          0  \n",
       "2                 1                     0                          0  \n",
       "3                 1                     0                          0  \n",
       "4                 1                     0                          0  \n",
       "\n",
       "[5 rows x 21 columns]"
      ]
     },
     "execution_count": 36,
     "metadata": {},
     "output_type": "execute_result"
    }
   ],
   "source": [
    "df.head()"
   ]
  },
  {
   "cell_type": "code",
   "execution_count": 37,
   "metadata": {},
   "outputs": [
    {
     "data": {
      "text/plain": [
       "0.5952205162204107"
      ]
     },
     "execution_count": 37,
     "metadata": {},
     "output_type": "execute_result"
    }
   ],
   "source": [
    "df.customer_responded.sum() / len(df)"
   ]
  },
  {
   "cell_type": "markdown",
   "metadata": {},
   "source": [
    "Then, let's separate the df into X and Y (target) variables"
   ]
  },
  {
   "cell_type": "code",
   "execution_count": 38,
   "metadata": {},
   "outputs": [],
   "source": [
    "int_cols = ['age', 'income', 'gender__F', 'gender__M', 'gender__O', 'days_as_member',\n",
    "     'number_of_transactions', 'reward', 'difficulty', 'duration', 'web_channel',\n",
    "     'email_channel', 'mobile_channel', 'social_channel', 'offer_type__bogo', \n",
    "     'offer_type__discount', 'offer_type__informational']"
   ]
  },
  {
   "cell_type": "code",
   "execution_count": 39,
   "metadata": {},
   "outputs": [
    {
     "name": "stderr",
     "output_type": "stream",
     "text": [
      "/home/hugo/anaconda3/lib/python3.8/site-packages/pandas/core/frame.py:3191: SettingWithCopyWarning: \n",
      "A value is trying to be set on a copy of a slice from a DataFrame.\n",
      "Try using .loc[row_indexer,col_indexer] = value instead\n",
      "\n",
      "See the caveats in the documentation: https://pandas.pydata.org/pandas-docs/stable/user_guide/indexing.html#returning-a-view-versus-a-copy\n",
      "  self[k1] = value[k2]\n"
     ]
    }
   ],
   "source": [
    "X = df[df.columns[3:]]\n",
    "X[int_cols] = X[int_cols].astype(int)\n",
    "y = df['customer_responded'].astype('category')"
   ]
  },
  {
   "cell_type": "code",
   "execution_count": 40,
   "metadata": {},
   "outputs": [],
   "source": [
    "from sklearn.model_selection import train_test_split\n",
    "\n",
    "train_X, val_X, train_y, val_y = train_test_split(X, y, random_state = 0)"
   ]
  },
  {
   "cell_type": "code",
   "execution_count": 41,
   "metadata": {},
   "outputs": [
    {
     "data": {
      "text/plain": [
       "RandomForestRegressor()"
      ]
     },
     "execution_count": 41,
     "metadata": {},
     "output_type": "execute_result"
    }
   ],
   "source": [
    "from sklearn.ensemble import RandomForestRegressor\n",
    "\n",
    "clf = RandomForestRegressor()\n",
    "clf.fit(train_X, train_y)"
   ]
  },
  {
   "cell_type": "code",
   "execution_count": 42,
   "metadata": {},
   "outputs": [
    {
     "data": {
      "text/plain": [
       "array([1., 0., 1., ..., 1., 1., 1.])"
      ]
     },
     "execution_count": 42,
     "metadata": {},
     "output_type": "execute_result"
    }
   ],
   "source": [
    "pred = np.around(clf.predict(val_X))\n",
    "pred"
   ]
  },
  {
   "cell_type": "code",
   "execution_count": 43,
   "metadata": {},
   "outputs": [
    {
     "name": "stdout",
     "output_type": "stream",
     "text": [
      "Accuracy:  0.9255062680810029\n"
     ]
    }
   ],
   "source": [
    "from sklearn.metrics import accuracy_score\n",
    "\n",
    "accuracy = accuracy_score(val_y, pred)\n",
    "print('Accuracy: ', accuracy)"
   ]
  },
  {
   "cell_type": "code",
   "execution_count": 44,
   "metadata": {},
   "outputs": [
    {
     "name": "stdout",
     "output_type": "stream",
     "text": [
      "              precision    recall  f1-score   support\n",
      "\n",
      "         0.0       0.93      0.88      0.90      6666\n",
      "         1.0       0.92      0.96      0.94      9926\n",
      "\n",
      "    accuracy                           0.93     16592\n",
      "   macro avg       0.93      0.92      0.92     16592\n",
      "weighted avg       0.93      0.93      0.93     16592\n",
      "\n"
     ]
    }
   ],
   "source": [
    "from sklearn.metrics import classification_report\n",
    "\n",
    "print(classification_report(val_y,pred))"
   ]
  },
  {
   "cell_type": "code",
   "execution_count": null,
   "metadata": {},
   "outputs": [],
   "source": []
  }
 ],
 "metadata": {
  "kernelspec": {
   "display_name": "Python 3",
   "language": "python",
   "name": "python3"
  },
  "language_info": {
   "codemirror_mode": {
    "name": "ipython",
    "version": 3
   },
   "file_extension": ".py",
   "mimetype": "text/x-python",
   "name": "python",
   "nbconvert_exporter": "python",
   "pygments_lexer": "ipython3",
   "version": "3.8.8"
  }
 },
 "nbformat": 4,
 "nbformat_minor": 2
}
