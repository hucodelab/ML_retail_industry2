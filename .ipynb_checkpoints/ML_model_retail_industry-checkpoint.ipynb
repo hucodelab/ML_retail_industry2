{
 "cells": [
  {
   "cell_type": "markdown",
   "metadata": {},
   "source": [
    "# Machine Learning model to Retail Industry"
   ]
  },
  {
   "cell_type": "markdown",
   "metadata": {},
   "source": [
    "# Section 1: Business understanding"
   ]
  },
  {
   "cell_type": "markdown",
   "metadata": {},
   "source": [
    "This project presents a Machine Learning model (Random Forest) to predict whether or not a customer will use an offer sent by a business of the Retail Industry."
   ]
  },
  {
   "cell_type": "markdown",
   "metadata": {},
   "source": [
    "The project presents answers to the following questions:\n",
    "\n",
    "Question 1: Will a customer respond to an offer sent by the commerce?"
   ]
  },
  {
   "cell_type": "markdown",
   "metadata": {},
   "source": [
    "# Section 2: Data Understanding"
   ]
  },
  {
   "cell_type": "markdown",
   "metadata": {},
   "source": [
    "### Gather process"
   ]
  },
  {
   "cell_type": "code",
   "execution_count": 1,
   "metadata": {
    "execution": {
     "iopub.execute_input": "2022-01-30T23:06:54.602333Z",
     "iopub.status.busy": "2022-01-30T23:06:54.601837Z",
     "iopub.status.idle": "2022-01-30T23:06:58.197706Z",
     "shell.execute_reply": "2022-01-30T23:06:58.196924Z",
     "shell.execute_reply.started": "2022-01-30T23:06:54.602293Z"
    }
   },
   "outputs": [],
   "source": [
    "import pandas as pd\n",
    "import numpy as np\n",
    "import math\n",
    "import json\n",
    "import seaborn as sns\n",
    "import matplotlib.pyplot as plt\n",
    "\n",
    "from sklearn.model_selection import train_test_split\n",
    "from sklearn.ensemble import RandomForestRegressor\n",
    "from sklearn.metrics import accuracy_score\n",
    "from sklearn.metrics import classification_report\n",
    "\n",
    "# read in the json files\n",
    "portfolio = pd.read_json('data/portfolio.json', orient='records', lines=True)\n",
    "profile = pd.read_json('data/profile.json', orient='records', lines=True)\n",
    "transcript = pd.read_json('data/transcript.json', orient='records', lines=True)"
   ]
  },
  {
   "cell_type": "markdown",
   "metadata": {},
   "source": [
    "### Data Sets\n",
    "\n",
    "The data is contained in three files:\n",
    "\n",
    "* portfolio.json - containing offer ids and meta data about each offer (duration, type, etc.)\n",
    "* profile.json - demographic data for each customer\n",
    "* transcript.json - records for transactions, offers received, offers viewed, and offers completed\n",
    "\n",
    "Here is the schema and explanation of each variable in the files:\n",
    "\n",
    "**portfolio.json**\n",
    "* id (string) - offer id\n",
    "* offer_type (string) - type of offer ie BOGO, discount, informational\n",
    "* difficulty (int) - minimum required spend to complete an offer\n",
    "* reward (int) - reward given for completing an offer\n",
    "* duration (int) - time for offer to be open, in days\n",
    "* channels (list of strings)\n",
    "\n",
    "**profile.json**\n",
    "* age (int) - age of the customer \n",
    "* became_member_on (int) - date when customer created an app account\n",
    "* gender (str) - gender of the customer (note some entries contain 'O' for other rather than M or F)\n",
    "* id (str) - customer id\n",
    "* income (float) - customer's income\n",
    "\n",
    "**transcript.json**\n",
    "* event (str) - record description (ie transaction, offer received, offer viewed, etc.)\n",
    "* person (str) - customer id\n",
    "* time (int) - time in hours since start of test. The data begins at time t=0\n",
    "* value - (dict of strings) - either an offer id or transaction amount depending on the record"
   ]
  },
  {
   "cell_type": "markdown",
   "metadata": {},
   "source": [
    "# Section 3: Prepare Data"
   ]
  },
  {
   "cell_type": "markdown",
   "metadata": {},
   "source": [
    "### Explore: Transcript (transactions)"
   ]
  },
  {
   "cell_type": "code",
   "execution_count": 2,
   "metadata": {
    "execution": {
     "iopub.execute_input": "2022-01-30T23:06:58.199556Z",
     "iopub.status.busy": "2022-01-30T23:06:58.199317Z",
     "iopub.status.idle": "2022-01-30T23:06:58.218092Z",
     "shell.execute_reply": "2022-01-30T23:06:58.217469Z",
     "shell.execute_reply.started": "2022-01-30T23:06:58.199519Z"
    }
   },
   "outputs": [
    {
     "data": {
      "text/html": [
       "<div>\n",
       "<style scoped>\n",
       "    .dataframe tbody tr th:only-of-type {\n",
       "        vertical-align: middle;\n",
       "    }\n",
       "\n",
       "    .dataframe tbody tr th {\n",
       "        vertical-align: top;\n",
       "    }\n",
       "\n",
       "    .dataframe thead th {\n",
       "        text-align: right;\n",
       "    }\n",
       "</style>\n",
       "<table border=\"1\" class=\"dataframe\">\n",
       "  <thead>\n",
       "    <tr style=\"text-align: right;\">\n",
       "      <th></th>\n",
       "      <th>person</th>\n",
       "      <th>event</th>\n",
       "      <th>value</th>\n",
       "      <th>time</th>\n",
       "    </tr>\n",
       "  </thead>\n",
       "  <tbody>\n",
       "    <tr>\n",
       "      <th>0</th>\n",
       "      <td>78afa995795e4d85b5d9ceeca43f5fef</td>\n",
       "      <td>offer received</td>\n",
       "      <td>{'offer id': '9b98b8c7a33c4b65b9aebfe6a799e6d9'}</td>\n",
       "      <td>0</td>\n",
       "    </tr>\n",
       "    <tr>\n",
       "      <th>1</th>\n",
       "      <td>a03223e636434f42ac4c3df47e8bac43</td>\n",
       "      <td>offer received</td>\n",
       "      <td>{'offer id': '0b1e1539f2cc45b7b9fa7c272da2e1d7'}</td>\n",
       "      <td>0</td>\n",
       "    </tr>\n",
       "    <tr>\n",
       "      <th>2</th>\n",
       "      <td>e2127556f4f64592b11af22de27a7932</td>\n",
       "      <td>offer received</td>\n",
       "      <td>{'offer id': '2906b810c7d4411798c6938adc9daaa5'}</td>\n",
       "      <td>0</td>\n",
       "    </tr>\n",
       "    <tr>\n",
       "      <th>3</th>\n",
       "      <td>8ec6ce2a7e7949b1bf142def7d0e0586</td>\n",
       "      <td>offer received</td>\n",
       "      <td>{'offer id': 'fafdcd668e3743c1bb461111dcafc2a4'}</td>\n",
       "      <td>0</td>\n",
       "    </tr>\n",
       "    <tr>\n",
       "      <th>4</th>\n",
       "      <td>68617ca6246f4fbc85e91a2a49552598</td>\n",
       "      <td>offer received</td>\n",
       "      <td>{'offer id': '4d5c57ea9a6940dd891ad53e9dbe8da0'}</td>\n",
       "      <td>0</td>\n",
       "    </tr>\n",
       "  </tbody>\n",
       "</table>\n",
       "</div>"
      ],
      "text/plain": [
       "                             person           event  \\\n",
       "0  78afa995795e4d85b5d9ceeca43f5fef  offer received   \n",
       "1  a03223e636434f42ac4c3df47e8bac43  offer received   \n",
       "2  e2127556f4f64592b11af22de27a7932  offer received   \n",
       "3  8ec6ce2a7e7949b1bf142def7d0e0586  offer received   \n",
       "4  68617ca6246f4fbc85e91a2a49552598  offer received   \n",
       "\n",
       "                                              value  time  \n",
       "0  {'offer id': '9b98b8c7a33c4b65b9aebfe6a799e6d9'}     0  \n",
       "1  {'offer id': '0b1e1539f2cc45b7b9fa7c272da2e1d7'}     0  \n",
       "2  {'offer id': '2906b810c7d4411798c6938adc9daaa5'}     0  \n",
       "3  {'offer id': 'fafdcd668e3743c1bb461111dcafc2a4'}     0  \n",
       "4  {'offer id': '4d5c57ea9a6940dd891ad53e9dbe8da0'}     0  "
      ]
     },
     "execution_count": 2,
     "metadata": {},
     "output_type": "execute_result"
    }
   ],
   "source": [
    "transcript.head()"
   ]
  },
  {
   "cell_type": "code",
   "execution_count": 3,
   "metadata": {
    "execution": {
     "iopub.execute_input": "2022-01-30T23:06:58.219502Z",
     "iopub.status.busy": "2022-01-30T23:06:58.219196Z",
     "iopub.status.idle": "2022-01-30T23:06:58.225180Z",
     "shell.execute_reply": "2022-01-30T23:06:58.224524Z",
     "shell.execute_reply.started": "2022-01-30T23:06:58.219465Z"
    }
   },
   "outputs": [
    {
     "data": {
      "text/plain": [
       "['offer_id', 'reward']"
      ]
     },
     "execution_count": 3,
     "metadata": {},
     "output_type": "execute_result"
    }
   ],
   "source": [
    "# we have dictionaries in the value column\n",
    "list(transcript.value.iloc[12658].keys())"
   ]
  },
  {
   "cell_type": "code",
   "execution_count": 4,
   "metadata": {
    "execution": {
     "iopub.execute_input": "2022-01-30T23:06:58.227742Z",
     "iopub.status.busy": "2022-01-30T23:06:58.227189Z",
     "iopub.status.idle": "2022-01-30T23:06:58.286127Z",
     "shell.execute_reply": "2022-01-30T23:06:58.285332Z",
     "shell.execute_reply.started": "2022-01-30T23:06:58.227704Z"
    }
   },
   "outputs": [
    {
     "data": {
      "text/plain": [
       "array(['offer received', 'offer viewed', 'transaction', 'offer completed'],\n",
       "      dtype=object)"
      ]
     },
     "execution_count": 4,
     "metadata": {},
     "output_type": "execute_result"
    }
   ],
   "source": [
    "# there are 4 types of events\n",
    "transcript.event.unique()"
   ]
  },
  {
   "cell_type": "markdown",
   "metadata": {},
   "source": [
    "### Prepare data: clean process (transcript df)"
   ]
  },
  {
   "cell_type": "markdown",
   "metadata": {},
   "source": [
    "In this dataframe we can apply the following modifications:\n",
    "\n",
    "- we can separate the column value into three more columns: \"offer_id\", \"amount\" e \"reward\"\n",
    "- we can separate the column value into three more columns (one hot encoding): \"offer_received\", \"offer_viewed\", \"transaction\" e \"offer_completed\""
   ]
  },
  {
   "cell_type": "code",
   "execution_count": 5,
   "metadata": {
    "execution": {
     "iopub.execute_input": "2022-01-30T23:06:58.287765Z",
     "iopub.status.busy": "2022-01-30T23:06:58.287521Z",
     "iopub.status.idle": "2022-01-30T23:06:58.295803Z",
     "shell.execute_reply": "2022-01-30T23:06:58.295014Z",
     "shell.execute_reply.started": "2022-01-30T23:06:58.287731Z"
    }
   },
   "outputs": [],
   "source": [
    "# we have three different keys in the value column (dictionary): offer_id, amount and reward\n",
    "# let's create functions to extract data from these dictionaries' keys\n",
    "\n",
    "def expand_transcript_offer_id():\n",
    "    '''\n",
    "    this function extract the data: \"offer_id\" from the value column\n",
    "    '''\n",
    "    offer_id_list = []\n",
    "\n",
    "    for dic in transcript.value.iloc[0:]:\n",
    "        if 'offer id' in list(dic.keys()):\n",
    "            offer_id_list.append(dic['offer id'])\n",
    "        elif 'offer_id' in list(dic.keys()):\n",
    "            offer_id_list.append(dic['offer_id'])\n",
    "        else:\n",
    "            offer_id_list.append(np.nan)\n",
    "    \n",
    "    return offer_id_list\n",
    "    \n",
    "def expand_transcript_amount(entry):\n",
    "    '''\n",
    "    this function extract the data: \"amount\" from the value column\n",
    "    '''\n",
    "    try:\n",
    "        if type(entry['amount']) == float or int:\n",
    "            return entry['amount']\n",
    "    except:\n",
    "        return np.nan\n",
    "    \n",
    "def expand_transcript_reward(entry):\n",
    "    '''\n",
    "    this function extract the data: \"reward\" from the value column\n",
    "    '''\n",
    "    try:\n",
    "        if type(entry['reward']) == float or int:\n",
    "            return entry['reward']\n",
    "    except:\n",
    "        return np.nan"
   ]
  },
  {
   "cell_type": "code",
   "execution_count": 6,
   "metadata": {
    "execution": {
     "iopub.execute_input": "2022-01-30T23:06:58.297495Z",
     "iopub.status.busy": "2022-01-30T23:06:58.297251Z",
     "iopub.status.idle": "2022-01-30T23:06:59.149980Z",
     "shell.execute_reply": "2022-01-30T23:06:59.149231Z",
     "shell.execute_reply.started": "2022-01-30T23:06:58.297461Z"
    }
   },
   "outputs": [],
   "source": [
    "def expand_transcript_all(transcript=transcript):\n",
    "    '''\n",
    "    this function use the following functions:\n",
    "    - expand_transcript_offer_id()\n",
    "    - expand_transcript_amount(entry)\n",
    "    - expand_transcript_reward(entry)\n",
    "    to create new columns in the transcript dataframe from the data in the value column\n",
    "    '''\n",
    "    \n",
    "    # then we create three new columns     \n",
    "    offer_id_list = expand_transcript_offer_id()\n",
    "    transcript['offer_id'] = offer_id_list\n",
    "    transcript['amount'] = transcript['value'].apply(lambda x: expand_transcript_amount(x))\n",
    "    transcript['reward'] = transcript['value'].apply(lambda x: expand_transcript_reward(x))\n",
    "    \n",
    "    # and then drop the \"value\" column\n",
    "    transcript.drop(columns=[\"value\"], inplace=True)\n",
    "    return transcript\n",
    "\n",
    "transcript = expand_transcript_all(transcript=transcript)"
   ]
  },
  {
   "cell_type": "code",
   "execution_count": 7,
   "metadata": {
    "execution": {
     "iopub.execute_input": "2022-01-30T23:06:59.151653Z",
     "iopub.status.busy": "2022-01-30T23:06:59.151406Z",
     "iopub.status.idle": "2022-01-30T23:06:59.162755Z",
     "shell.execute_reply": "2022-01-30T23:06:59.162012Z",
     "shell.execute_reply.started": "2022-01-30T23:06:59.151619Z"
    }
   },
   "outputs": [
    {
     "data": {
      "text/html": [
       "<div>\n",
       "<style scoped>\n",
       "    .dataframe tbody tr th:only-of-type {\n",
       "        vertical-align: middle;\n",
       "    }\n",
       "\n",
       "    .dataframe tbody tr th {\n",
       "        vertical-align: top;\n",
       "    }\n",
       "\n",
       "    .dataframe thead th {\n",
       "        text-align: right;\n",
       "    }\n",
       "</style>\n",
       "<table border=\"1\" class=\"dataframe\">\n",
       "  <thead>\n",
       "    <tr style=\"text-align: right;\">\n",
       "      <th></th>\n",
       "      <th>person</th>\n",
       "      <th>event</th>\n",
       "      <th>time</th>\n",
       "      <th>offer_id</th>\n",
       "      <th>amount</th>\n",
       "      <th>reward</th>\n",
       "    </tr>\n",
       "  </thead>\n",
       "  <tbody>\n",
       "    <tr>\n",
       "      <th>0</th>\n",
       "      <td>78afa995795e4d85b5d9ceeca43f5fef</td>\n",
       "      <td>offer received</td>\n",
       "      <td>0</td>\n",
       "      <td>9b98b8c7a33c4b65b9aebfe6a799e6d9</td>\n",
       "      <td>NaN</td>\n",
       "      <td>NaN</td>\n",
       "    </tr>\n",
       "    <tr>\n",
       "      <th>1</th>\n",
       "      <td>a03223e636434f42ac4c3df47e8bac43</td>\n",
       "      <td>offer received</td>\n",
       "      <td>0</td>\n",
       "      <td>0b1e1539f2cc45b7b9fa7c272da2e1d7</td>\n",
       "      <td>NaN</td>\n",
       "      <td>NaN</td>\n",
       "    </tr>\n",
       "    <tr>\n",
       "      <th>2</th>\n",
       "      <td>e2127556f4f64592b11af22de27a7932</td>\n",
       "      <td>offer received</td>\n",
       "      <td>0</td>\n",
       "      <td>2906b810c7d4411798c6938adc9daaa5</td>\n",
       "      <td>NaN</td>\n",
       "      <td>NaN</td>\n",
       "    </tr>\n",
       "    <tr>\n",
       "      <th>3</th>\n",
       "      <td>8ec6ce2a7e7949b1bf142def7d0e0586</td>\n",
       "      <td>offer received</td>\n",
       "      <td>0</td>\n",
       "      <td>fafdcd668e3743c1bb461111dcafc2a4</td>\n",
       "      <td>NaN</td>\n",
       "      <td>NaN</td>\n",
       "    </tr>\n",
       "    <tr>\n",
       "      <th>4</th>\n",
       "      <td>68617ca6246f4fbc85e91a2a49552598</td>\n",
       "      <td>offer received</td>\n",
       "      <td>0</td>\n",
       "      <td>4d5c57ea9a6940dd891ad53e9dbe8da0</td>\n",
       "      <td>NaN</td>\n",
       "      <td>NaN</td>\n",
       "    </tr>\n",
       "  </tbody>\n",
       "</table>\n",
       "</div>"
      ],
      "text/plain": [
       "                             person           event  time  \\\n",
       "0  78afa995795e4d85b5d9ceeca43f5fef  offer received     0   \n",
       "1  a03223e636434f42ac4c3df47e8bac43  offer received     0   \n",
       "2  e2127556f4f64592b11af22de27a7932  offer received     0   \n",
       "3  8ec6ce2a7e7949b1bf142def7d0e0586  offer received     0   \n",
       "4  68617ca6246f4fbc85e91a2a49552598  offer received     0   \n",
       "\n",
       "                           offer_id  amount  reward  \n",
       "0  9b98b8c7a33c4b65b9aebfe6a799e6d9     NaN     NaN  \n",
       "1  0b1e1539f2cc45b7b9fa7c272da2e1d7     NaN     NaN  \n",
       "2  2906b810c7d4411798c6938adc9daaa5     NaN     NaN  \n",
       "3  fafdcd668e3743c1bb461111dcafc2a4     NaN     NaN  \n",
       "4  4d5c57ea9a6940dd891ad53e9dbe8da0     NaN     NaN  "
      ]
     },
     "execution_count": 7,
     "metadata": {},
     "output_type": "execute_result"
    }
   ],
   "source": [
    "transcript.head()"
   ]
  },
  {
   "cell_type": "code",
   "execution_count": 8,
   "metadata": {
    "execution": {
     "iopub.execute_input": "2022-01-30T23:06:59.164838Z",
     "iopub.status.busy": "2022-01-30T23:06:59.164309Z",
     "iopub.status.idle": "2022-01-30T23:07:00.204646Z",
     "shell.execute_reply": "2022-01-30T23:07:00.204011Z",
     "shell.execute_reply.started": "2022-01-30T23:06:59.164758Z"
    }
   },
   "outputs": [
    {
     "data": {
      "image/png": "[encoded data removed]",
      "text/plain": [
       "<Figure size 720x360 with 4 Axes>"
      ]
     },
     "metadata": {
      "needs_background": "light"
     },
     "output_type": "display_data"
    }
   ],
   "source": [
    "transcript.hist(bins=100, figsize=(10, 5));"
   ]
  },
  {
   "cell_type": "code",
   "execution_count": 9,
   "metadata": {
    "execution": {
     "iopub.execute_input": "2022-01-30T23:07:00.206307Z",
     "iopub.status.busy": "2022-01-30T23:07:00.205735Z",
     "iopub.status.idle": "2022-01-30T23:07:00.271780Z",
     "shell.execute_reply": "2022-01-30T23:07:00.271140Z",
     "shell.execute_reply.started": "2022-01-30T23:07:00.206262Z"
    }
   },
   "outputs": [
    {
     "data": {
      "text/plain": [
       "(306534, 17000)"
      ]
     },
     "execution_count": 9,
     "metadata": {},
     "output_type": "execute_result"
    }
   ],
   "source": [
    "# we can see that one person can have more than one transaction (event) and there are 17000 clients\n",
    "len(transcript), len(transcript.person.unique())"
   ]
  },
  {
   "cell_type": "markdown",
   "metadata": {},
   "source": [
    "In this dataset we have information of the user's transactions and the offers the users receive. So, we can inquire which offers the users received, viewed and completed and which they just received and didn't used. It can be interesting if we apply one hot encoding to each event: received, viewed and completed. So, we will separate the dataset by event and then merge to apply one hot encoding.\n",
    "\n",
    "We also have the event: transaction. Using this event we can see the number of transactions of each user and the total amount the users have spent. This information can be valuable to complement the profile dataset."
   ]
  },
  {
   "cell_type": "markdown",
   "metadata": {},
   "source": [
    "### events: received, viewed, completed, transaction"
   ]
  },
  {
   "cell_type": "code",
   "execution_count": 10,
   "metadata": {
    "execution": {
     "iopub.execute_input": "2022-01-30T23:07:00.275904Z",
     "iopub.status.busy": "2022-01-30T23:07:00.275283Z",
     "iopub.status.idle": "2022-01-30T23:07:00.519524Z",
     "shell.execute_reply": "2022-01-30T23:07:00.518750Z",
     "shell.execute_reply.started": "2022-01-30T23:07:00.275863Z"
    }
   },
   "outputs": [
    {
     "name": "stderr",
     "output_type": "stream",
     "text": [
      "/home/hugo/anaconda3/lib/python3.8/site-packages/pandas/core/frame.py:4308: SettingWithCopyWarning: \n",
      "A value is trying to be set on a copy of a slice from a DataFrame\n",
      "\n",
      "See the caveats in the documentation: https://pandas.pydata.org/pandas-docs/stable/user_guide/indexing.html#returning-a-view-versus-a-copy\n",
      "  return super().drop(\n"
     ]
    }
   ],
   "source": [
    "def separate_transcript(transcript=transcript):\n",
    "    '''\n",
    "    this function separates the transcript df into 4 df according to\n",
    "    the 4 types of events\n",
    "    '''\n",
    "    # the received df just tells us that a user received an offer\n",
    "    # so, it doesn't have amount and reward information, let's drop\n",
    "    received = transcript[transcript['event'] == \"offer received\"]\n",
    "    received.drop(columns=['amount', 'reward'], inplace=True)\n",
    "    \n",
    "    # the received df just tells us that a user viewed an offer\n",
    "    # so, it doesn't have amount and reward information, let's drop\n",
    "    viewed = transcript[transcript['event'] == \"offer viewed\"]\n",
    "    viewed.drop(columns=['amount', 'reward'], inplace=True)\n",
    "    \n",
    "    # the completed df tells us that a user completed (responded to) an offer\n",
    "    # so, it just have reward information, let's drop amount column\n",
    "    completed = transcript[transcript['event'] == \"offer completed\"]\n",
    "    completed.drop(columns=['amount'], inplace=True)\n",
    "    \n",
    "    # the transaction df tells us the amount of each transaction\n",
    "    # so, itjust have amount information, let's drop offer_id and reward columns \n",
    "    transaction = transcript[transcript['event'] == \"transaction\"]\n",
    "    transaction.drop(columns=['offer_id', 'reward'], inplace=True)\n",
    "    \n",
    "    #change the columns' names\n",
    "    received.columns = ['customer_id', 'event', 'time', 'offer_id']\n",
    "    viewed.columns = ['customer_id', 'event', 'time', 'offer_id']\n",
    "    completed.columns = ['customer_id', 'event', 'time', 'offer_id', 'reward']\n",
    "    transaction.columns = ['customer_id', 'event', 'time', 'amount']\n",
    "    \n",
    "    return received, viewed, completed, transaction\n",
    "\n",
    "received, viewed, completed, transaction = separate_transcript(transcript=transcript)"
   ]
  },
  {
   "cell_type": "markdown",
   "metadata": {},
   "source": [
    "Now we are going to apply one hot encoding to the events: received, viewed and completed by merging the dataframes with a new column with a 1 value depending on the event"
   ]
  },
  {
   "cell_type": "code",
   "execution_count": 11,
   "metadata": {
    "execution": {
     "iopub.execute_input": "2022-01-30T23:07:00.521277Z",
     "iopub.status.busy": "2022-01-30T23:07:00.520844Z",
     "iopub.status.idle": "2022-01-30T23:07:00.528567Z",
     "shell.execute_reply": "2022-01-30T23:07:00.527807Z",
     "shell.execute_reply.started": "2022-01-30T23:07:00.521235Z"
    }
   },
   "outputs": [],
   "source": [
    "def one_hot_events(received=received, viewed=viewed, completed=completed):\n",
    "    '''\n",
    "    this function creates a new column with one values according to the event\n",
    "    and then merge the dataframes\n",
    "    '''\n",
    "    # column with 1 value\n",
    "    received['offer_received'] = 1\n",
    "    viewed['offer_viewed'] = 1\n",
    "    completed['offer_completed'] = 1\n",
    "    \n",
    "    # merge the three dfs\n",
    "    event_df = received.merge(\n",
    "        viewed, how=\"left\", on=['customer_id', \"offer_id\"]).merge(\n",
    "        completed, how=\"left\", on=['customer_id', \"offer_id\"])\n",
    "    event_df.drop(columns=[\"event_x\", \"event_y\", \"event\"], inplace=True)\n",
    "    event_df.columns = ['customer_id', 'time_received', 'offer_id', 'offer_received',\n",
    "                        'time_viewed', 'offer_viewed', 'time_completed', 'reward', 'offer_completed']\n",
    "    \n",
    "    return event_df"
   ]
  },
  {
   "cell_type": "code",
   "execution_count": 12,
   "metadata": {
    "execution": {
     "iopub.execute_input": "2022-01-30T23:07:00.530522Z",
     "iopub.status.busy": "2022-01-30T23:07:00.529881Z",
     "iopub.status.idle": "2022-01-30T23:07:00.756615Z",
     "shell.execute_reply": "2022-01-30T23:07:00.755891Z",
     "shell.execute_reply.started": "2022-01-30T23:07:00.530483Z"
    }
   },
   "outputs": [
    {
     "name": "stderr",
     "output_type": "stream",
     "text": [
      "<ipython-input-11-700b5eabca30>:7: SettingWithCopyWarning: \n",
      "A value is trying to be set on a copy of a slice from a DataFrame.\n",
      "Try using .loc[row_indexer,col_indexer] = value instead\n",
      "\n",
      "See the caveats in the documentation: https://pandas.pydata.org/pandas-docs/stable/user_guide/indexing.html#returning-a-view-versus-a-copy\n",
      "  received['offer_received'] = 1\n",
      "<ipython-input-11-700b5eabca30>:8: SettingWithCopyWarning: \n",
      "A value is trying to be set on a copy of a slice from a DataFrame.\n",
      "Try using .loc[row_indexer,col_indexer] = value instead\n",
      "\n",
      "See the caveats in the documentation: https://pandas.pydata.org/pandas-docs/stable/user_guide/indexing.html#returning-a-view-versus-a-copy\n",
      "  viewed['offer_viewed'] = 1\n",
      "<ipython-input-11-700b5eabca30>:9: SettingWithCopyWarning: \n",
      "A value is trying to be set on a copy of a slice from a DataFrame.\n",
      "Try using .loc[row_indexer,col_indexer] = value instead\n",
      "\n",
      "See the caveats in the documentation: https://pandas.pydata.org/pandas-docs/stable/user_guide/indexing.html#returning-a-view-versus-a-copy\n",
      "  completed['offer_completed'] = 1\n"
     ]
    }
   ],
   "source": [
    "event_df = one_hot_events(received=received, viewed=viewed, completed=completed)"
   ]
  },
  {
   "cell_type": "markdown",
   "metadata": {},
   "source": [
    "Since we are interested in whether or not someone will respond to an offer, we are going to drop offers that weren't seen."
   ]
  },
  {
   "cell_type": "markdown",
   "metadata": {},
   "source": [
    "Also, we can see that there are some offers that were completed before viewed, so the customer completed the offer but he didn't know it exists. Since we are just interested in the offers that the customers responded to, we are going to drop offers completed before they were seen."
   ]
  },
  {
   "cell_type": "code",
   "execution_count": 13,
   "metadata": {
    "execution": {
     "iopub.execute_input": "2022-01-30T23:07:00.758309Z",
     "iopub.status.busy": "2022-01-30T23:07:00.758045Z",
     "iopub.status.idle": "2022-01-30T23:07:00.768554Z",
     "shell.execute_reply": "2022-01-30T23:07:00.767864Z",
     "shell.execute_reply.started": "2022-01-30T23:07:00.758273Z"
    }
   },
   "outputs": [],
   "source": [
    "def clean_event_df(event_df=event_df):\n",
    "    '''\n",
    "    this function will create a dataframe that indicate whether or not the\n",
    "    customer responded to an offer with binary data. Columns:\n",
    "    *customer_responded:\n",
    "    1 - the customer viewed and completed the offer\n",
    "    0 - the customer viewed but didn't used the offer\n",
    "    *customer_id\n",
    "    *offer_id\n",
    "    '''\n",
    "    event_df = event_df[event_df['offer_viewed'] == 1]\n",
    "    \n",
    "    # we replace the nan with 1000 to then apply the customer_responded\n",
    "    # function\n",
    "    event_df.time_completed = event_df.time_completed.fillna(1000)\n",
    "    \n",
    "    def customer_responded(event_df=event_df):\n",
    "        '''\n",
    "        This function returns the values 0, 1 or nan depending on the values\n",
    "        of the 'time_completed' and 'time_viewed' columns\n",
    "        '''\n",
    "        if event_df['time_completed'] == 1000:\n",
    "            return 0\n",
    "        elif event_df['time_completed'] > event_df['time_viewed']:\n",
    "            return 1\n",
    "        else:\n",
    "            return np.nan\n",
    "    \n",
    "    # we create a new column applying the customer_responded function\n",
    "    event_df['customer_responded'] = event_df.apply(customer_responded, axis=1)\n",
    "    \n",
    "    # drop customers who viewed the offer after completed it\n",
    "    event_df.dropna(subset=['customer_responded'], inplace=True)\n",
    "    \n",
    "    # replace 1000 with nan again\n",
    "    event_df.time_completed = event_df.time_completed.replace(1000, np.nan)\n",
    "    \n",
    "    # drop the columns that we won't use to build the ML model\n",
    "    event_df.drop(columns=['time_received','offer_received','time_viewed','offer_viewed',\n",
    "                          'time_completed','reward','offer_completed'], inplace=True)\n",
    "    \n",
    "    return event_df"
   ]
  },
  {
   "cell_type": "code",
   "execution_count": 14,
   "metadata": {
    "execution": {
     "iopub.execute_input": "2022-01-30T23:07:00.771538Z",
     "iopub.status.busy": "2022-01-30T23:07:00.771337Z",
     "iopub.status.idle": "2022-01-30T23:07:02.478405Z",
     "shell.execute_reply": "2022-01-30T23:07:02.477658Z",
     "shell.execute_reply.started": "2022-01-30T23:07:00.771506Z"
    }
   },
   "outputs": [
    {
     "name": "stderr",
     "output_type": "stream",
     "text": [
      "/home/hugo/anaconda3/lib/python3.8/site-packages/pandas/core/generic.py:5494: SettingWithCopyWarning: \n",
      "A value is trying to be set on a copy of a slice from a DataFrame.\n",
      "Try using .loc[row_indexer,col_indexer] = value instead\n",
      "\n",
      "See the caveats in the documentation: https://pandas.pydata.org/pandas-docs/stable/user_guide/indexing.html#returning-a-view-versus-a-copy\n",
      "  self[name] = value\n",
      "<ipython-input-13-cb38ea87b8e4>:30: SettingWithCopyWarning: \n",
      "A value is trying to be set on a copy of a slice from a DataFrame.\n",
      "Try using .loc[row_indexer,col_indexer] = value instead\n",
      "\n",
      "See the caveats in the documentation: https://pandas.pydata.org/pandas-docs/stable/user_guide/indexing.html#returning-a-view-versus-a-copy\n",
      "  event_df['customer_responded'] = event_df.apply(customer_responded, axis=1)\n",
      "<ipython-input-13-cb38ea87b8e4>:33: SettingWithCopyWarning: \n",
      "A value is trying to be set on a copy of a slice from a DataFrame\n",
      "\n",
      "See the caveats in the documentation: https://pandas.pydata.org/pandas-docs/stable/user_guide/indexing.html#returning-a-view-versus-a-copy\n",
      "  event_df.dropna(subset=['customer_responded'], inplace=True)\n",
      "/home/hugo/anaconda3/lib/python3.8/site-packages/pandas/core/generic.py:5494: SettingWithCopyWarning: \n",
      "A value is trying to be set on a copy of a slice from a DataFrame.\n",
      "Try using .loc[row_indexer,col_indexer] = value instead\n",
      "\n",
      "See the caveats in the documentation: https://pandas.pydata.org/pandas-docs/stable/user_guide/indexing.html#returning-a-view-versus-a-copy\n",
      "  self[name] = value\n",
      "/home/hugo/anaconda3/lib/python3.8/site-packages/pandas/core/frame.py:4308: SettingWithCopyWarning: \n",
      "A value is trying to be set on a copy of a slice from a DataFrame\n",
      "\n",
      "See the caveats in the documentation: https://pandas.pydata.org/pandas-docs/stable/user_guide/indexing.html#returning-a-view-versus-a-copy\n",
      "  return super().drop(\n"
     ]
    }
   ],
   "source": [
    "event_df = clean_event_df(event_df=event_df)"
   ]
  },
  {
   "cell_type": "code",
   "execution_count": 15,
   "metadata": {
    "execution": {
     "iopub.execute_input": "2022-01-30T23:07:02.481100Z",
     "iopub.status.busy": "2022-01-30T23:07:02.479499Z",
     "iopub.status.idle": "2022-01-30T23:07:02.490740Z",
     "shell.execute_reply": "2022-01-30T23:07:02.489982Z",
     "shell.execute_reply.started": "2022-01-30T23:07:02.481059Z"
    }
   },
   "outputs": [
    {
     "data": {
      "text/html": [
       "<div>\n",
       "<style scoped>\n",
       "    .dataframe tbody tr th:only-of-type {\n",
       "        vertical-align: middle;\n",
       "    }\n",
       "\n",
       "    .dataframe tbody tr th {\n",
       "        vertical-align: top;\n",
       "    }\n",
       "\n",
       "    .dataframe thead th {\n",
       "        text-align: right;\n",
       "    }\n",
       "</style>\n",
       "<table border=\"1\" class=\"dataframe\">\n",
       "  <thead>\n",
       "    <tr style=\"text-align: right;\">\n",
       "      <th></th>\n",
       "      <th>customer_id</th>\n",
       "      <th>offer_id</th>\n",
       "      <th>customer_responded</th>\n",
       "    </tr>\n",
       "  </thead>\n",
       "  <tbody>\n",
       "    <tr>\n",
       "      <th>0</th>\n",
       "      <td>78afa995795e4d85b5d9ceeca43f5fef</td>\n",
       "      <td>9b98b8c7a33c4b65b9aebfe6a799e6d9</td>\n",
       "      <td>1.0</td>\n",
       "    </tr>\n",
       "    <tr>\n",
       "      <th>1</th>\n",
       "      <td>a03223e636434f42ac4c3df47e8bac43</td>\n",
       "      <td>0b1e1539f2cc45b7b9fa7c272da2e1d7</td>\n",
       "      <td>0.0</td>\n",
       "    </tr>\n",
       "    <tr>\n",
       "      <th>2</th>\n",
       "      <td>a03223e636434f42ac4c3df47e8bac43</td>\n",
       "      <td>0b1e1539f2cc45b7b9fa7c272da2e1d7</td>\n",
       "      <td>0.0</td>\n",
       "    </tr>\n",
       "    <tr>\n",
       "      <th>3</th>\n",
       "      <td>e2127556f4f64592b11af22de27a7932</td>\n",
       "      <td>2906b810c7d4411798c6938adc9daaa5</td>\n",
       "      <td>0.0</td>\n",
       "    </tr>\n",
       "    <tr>\n",
       "      <th>4</th>\n",
       "      <td>8ec6ce2a7e7949b1bf142def7d0e0586</td>\n",
       "      <td>fafdcd668e3743c1bb461111dcafc2a4</td>\n",
       "      <td>0.0</td>\n",
       "    </tr>\n",
       "  </tbody>\n",
       "</table>\n",
       "</div>"
      ],
      "text/plain": [
       "                        customer_id                          offer_id  \\\n",
       "0  78afa995795e4d85b5d9ceeca43f5fef  9b98b8c7a33c4b65b9aebfe6a799e6d9   \n",
       "1  a03223e636434f42ac4c3df47e8bac43  0b1e1539f2cc45b7b9fa7c272da2e1d7   \n",
       "2  a03223e636434f42ac4c3df47e8bac43  0b1e1539f2cc45b7b9fa7c272da2e1d7   \n",
       "3  e2127556f4f64592b11af22de27a7932  2906b810c7d4411798c6938adc9daaa5   \n",
       "4  8ec6ce2a7e7949b1bf142def7d0e0586  fafdcd668e3743c1bb461111dcafc2a4   \n",
       "\n",
       "   customer_responded  \n",
       "0                 1.0  \n",
       "1                 0.0  \n",
       "2                 0.0  \n",
       "3                 0.0  \n",
       "4                 0.0  "
      ]
     },
     "execution_count": 15,
     "metadata": {},
     "output_type": "execute_result"
    }
   ],
   "source": [
    "event_df.head()"
   ]
  },
  {
   "cell_type": "markdown",
   "metadata": {},
   "source": [
    "## Explore: Portfolio (offers' data) "
   ]
  },
  {
   "cell_type": "code",
   "execution_count": 16,
   "metadata": {
    "execution": {
     "iopub.execute_input": "2022-01-30T23:07:02.492795Z",
     "iopub.status.busy": "2022-01-30T23:07:02.492282Z",
     "iopub.status.idle": "2022-01-30T23:07:02.507530Z",
     "shell.execute_reply": "2022-01-30T23:07:02.506872Z",
     "shell.execute_reply.started": "2022-01-30T23:07:02.492757Z"
    }
   },
   "outputs": [
    {
     "data": {
      "text/html": [
       "<div>\n",
       "<style scoped>\n",
       "    .dataframe tbody tr th:only-of-type {\n",
       "        vertical-align: middle;\n",
       "    }\n",
       "\n",
       "    .dataframe tbody tr th {\n",
       "        vertical-align: top;\n",
       "    }\n",
       "\n",
       "    .dataframe thead th {\n",
       "        text-align: right;\n",
       "    }\n",
       "</style>\n",
       "<table border=\"1\" class=\"dataframe\">\n",
       "  <thead>\n",
       "    <tr style=\"text-align: right;\">\n",
       "      <th></th>\n",
       "      <th>reward</th>\n",
       "      <th>channels</th>\n",
       "      <th>difficulty</th>\n",
       "      <th>duration</th>\n",
       "      <th>offer_type</th>\n",
       "      <th>id</th>\n",
       "    </tr>\n",
       "  </thead>\n",
       "  <tbody>\n",
       "    <tr>\n",
       "      <th>0</th>\n",
       "      <td>10</td>\n",
       "      <td>[email, mobile, social]</td>\n",
       "      <td>10</td>\n",
       "      <td>7</td>\n",
       "      <td>bogo</td>\n",
       "      <td>ae264e3637204a6fb9bb56bc8210ddfd</td>\n",
       "    </tr>\n",
       "    <tr>\n",
       "      <th>1</th>\n",
       "      <td>10</td>\n",
       "      <td>[web, email, mobile, social]</td>\n",
       "      <td>10</td>\n",
       "      <td>5</td>\n",
       "      <td>bogo</td>\n",
       "      <td>4d5c57ea9a6940dd891ad53e9dbe8da0</td>\n",
       "    </tr>\n",
       "    <tr>\n",
       "      <th>2</th>\n",
       "      <td>0</td>\n",
       "      <td>[web, email, mobile]</td>\n",
       "      <td>0</td>\n",
       "      <td>4</td>\n",
       "      <td>informational</td>\n",
       "      <td>3f207df678b143eea3cee63160fa8bed</td>\n",
       "    </tr>\n",
       "    <tr>\n",
       "      <th>3</th>\n",
       "      <td>5</td>\n",
       "      <td>[web, email, mobile]</td>\n",
       "      <td>5</td>\n",
       "      <td>7</td>\n",
       "      <td>bogo</td>\n",
       "      <td>9b98b8c7a33c4b65b9aebfe6a799e6d9</td>\n",
       "    </tr>\n",
       "    <tr>\n",
       "      <th>4</th>\n",
       "      <td>5</td>\n",
       "      <td>[web, email]</td>\n",
       "      <td>20</td>\n",
       "      <td>10</td>\n",
       "      <td>discount</td>\n",
       "      <td>0b1e1539f2cc45b7b9fa7c272da2e1d7</td>\n",
       "    </tr>\n",
       "  </tbody>\n",
       "</table>\n",
       "</div>"
      ],
      "text/plain": [
       "   reward                      channels  difficulty  duration     offer_type  \\\n",
       "0      10       [email, mobile, social]          10         7           bogo   \n",
       "1      10  [web, email, mobile, social]          10         5           bogo   \n",
       "2       0          [web, email, mobile]           0         4  informational   \n",
       "3       5          [web, email, mobile]           5         7           bogo   \n",
       "4       5                  [web, email]          20        10       discount   \n",
       "\n",
       "                                 id  \n",
       "0  ae264e3637204a6fb9bb56bc8210ddfd  \n",
       "1  4d5c57ea9a6940dd891ad53e9dbe8da0  \n",
       "2  3f207df678b143eea3cee63160fa8bed  \n",
       "3  9b98b8c7a33c4b65b9aebfe6a799e6d9  \n",
       "4  0b1e1539f2cc45b7b9fa7c272da2e1d7  "
      ]
     },
     "execution_count": 16,
     "metadata": {},
     "output_type": "execute_result"
    }
   ],
   "source": [
    "portfolio.head()"
   ]
  },
  {
   "cell_type": "code",
   "execution_count": 17,
   "metadata": {
    "execution": {
     "iopub.execute_input": "2022-01-30T23:07:02.509497Z",
     "iopub.status.busy": "2022-01-30T23:07:02.508772Z",
     "iopub.status.idle": "2022-01-30T23:07:02.517735Z",
     "shell.execute_reply": "2022-01-30T23:07:02.517009Z",
     "shell.execute_reply.started": "2022-01-30T23:07:02.509460Z"
    }
   },
   "outputs": [
    {
     "data": {
      "text/plain": [
       "(10, 6)"
      ]
     },
     "execution_count": 17,
     "metadata": {},
     "output_type": "execute_result"
    }
   ],
   "source": [
    "portfolio.shape"
   ]
  },
  {
   "cell_type": "code",
   "execution_count": 18,
   "metadata": {
    "execution": {
     "iopub.execute_input": "2022-01-30T23:07:02.519258Z",
     "iopub.status.busy": "2022-01-30T23:07:02.518879Z",
     "iopub.status.idle": "2022-01-30T23:07:03.137479Z",
     "shell.execute_reply": "2022-01-30T23:07:03.136801Z",
     "shell.execute_reply.started": "2022-01-30T23:07:02.519223Z"
    }
   },
   "outputs": [
    {
     "data": {
      "image/png": "[encoded data removed]",
      "text/plain": [
       "<Figure size 720x360 with 4 Axes>"
      ]
     },
     "metadata": {
      "needs_background": "light"
     },
     "output_type": "display_data"
    }
   ],
   "source": [
    "portfolio[['difficulty', 'duration', 'reward']].hist(bins=50, figsize=(10, 5));"
   ]
  },
  {
   "cell_type": "markdown",
   "metadata": {},
   "source": [
    "## Prepare data: clean process (Portfolio df)"
   ]
  },
  {
   "cell_type": "markdown",
   "metadata": {},
   "source": [
    "In this dataframe we can make the following modifications:\n",
    "\n",
    "- binary data of each channel (one hot encoding)\n",
    "- binary data of each offer_type (one hot encoding)"
   ]
  },
  {
   "cell_type": "code",
   "execution_count": 19,
   "metadata": {
    "execution": {
     "iopub.execute_input": "2022-01-30T23:07:03.138879Z",
     "iopub.status.busy": "2022-01-30T23:07:03.138631Z",
     "iopub.status.idle": "2022-01-30T23:07:03.156702Z",
     "shell.execute_reply": "2022-01-30T23:07:03.155920Z",
     "shell.execute_reply.started": "2022-01-30T23:07:03.138845Z"
    }
   },
   "outputs": [],
   "source": [
    "def one_hot_channels_offer_type(portfolio=portfolio):\n",
    "    '''\n",
    "    this function applies one hot encoding in the channels column of the portfolio df\n",
    "    '''\n",
    "    channels_list = ['web', 'email', 'mobile', 'social']\n",
    "    portfolio['web_channel'] = portfolio['channels'].apply(lambda x: 1 if channels_list[0] in x else 0)\n",
    "    portfolio['email_channel'] = portfolio['channels'].apply(lambda x: 1 if channels_list[1] in x else 0)\n",
    "    portfolio['mobile_channel'] = portfolio['channels'].apply(lambda x: 1 if channels_list[2] in x else 0)\n",
    "    portfolio['social_channel'] = portfolio['channels'].apply(lambda x: 1 if channels_list[3] in x else 0)\n",
    "    \n",
    "    # drop the channels columns\n",
    "    portfolio.drop(columns=[\"channels\"], inplace=True)\n",
    "    \n",
    "    # one hot offer_type\n",
    "    try:\n",
    "        portfolio = pd.get_dummies(portfolio, columns=['offer_type'], prefix=\"offer_type_\")\n",
    "    except:\n",
    "        pass\n",
    "    \n",
    "    portfolio.columns = ['reward', 'difficulty', 'duration', 'offer_id', 'web_channel', 'email_channel', \n",
    "                     'mobile_channel', 'social_channel', 'offer_type__bogo','offer_type__discount',\n",
    "                     'offer_type__informational']\n",
    "    \n",
    "    return portfolio\n",
    "\n",
    "portfolio = one_hot_channels_offer_type(portfolio=portfolio)"
   ]
  },
  {
   "cell_type": "code",
   "execution_count": 20,
   "metadata": {
    "execution": {
     "iopub.execute_input": "2022-01-30T23:07:03.158446Z",
     "iopub.status.busy": "2022-01-30T23:07:03.158005Z",
     "iopub.status.idle": "2022-01-30T23:07:03.779483Z",
     "shell.execute_reply": "2022-01-30T23:07:03.778785Z",
     "shell.execute_reply.started": "2022-01-30T23:07:03.158409Z"
    }
   },
   "outputs": [
    {
     "data": {
      "image/png": "[encoded data removed]",
      "text/plain": [
       "<Figure size 720x360 with 4 Axes>"
      ]
     },
     "metadata": {
      "needs_background": "light"
     },
     "output_type": "display_data"
    }
   ],
   "source": [
    "portfolio[['difficulty', 'duration', 'reward']].hist(bins=50, figsize=(10, 5));"
   ]
  },
  {
   "cell_type": "code",
   "execution_count": 21,
   "metadata": {
    "execution": {
     "iopub.execute_input": "2022-01-30T23:07:03.780995Z",
     "iopub.status.busy": "2022-01-30T23:07:03.780743Z",
     "iopub.status.idle": "2022-01-30T23:07:03.791699Z",
     "shell.execute_reply": "2022-01-30T23:07:03.791065Z",
     "shell.execute_reply.started": "2022-01-30T23:07:03.780961Z"
    }
   },
   "outputs": [
    {
     "data": {
      "text/html": [
       "<div>\n",
       "<style scoped>\n",
       "    .dataframe tbody tr th:only-of-type {\n",
       "        vertical-align: middle;\n",
       "    }\n",
       "\n",
       "    .dataframe tbody tr th {\n",
       "        vertical-align: top;\n",
       "    }\n",
       "\n",
       "    .dataframe thead th {\n",
       "        text-align: right;\n",
       "    }\n",
       "</style>\n",
       "<table border=\"1\" class=\"dataframe\">\n",
       "  <thead>\n",
       "    <tr style=\"text-align: right;\">\n",
       "      <th></th>\n",
       "      <th>reward</th>\n",
       "      <th>difficulty</th>\n",
       "      <th>duration</th>\n",
       "      <th>offer_id</th>\n",
       "      <th>web_channel</th>\n",
       "      <th>email_channel</th>\n",
       "      <th>mobile_channel</th>\n",
       "      <th>social_channel</th>\n",
       "      <th>offer_type__bogo</th>\n",
       "      <th>offer_type__discount</th>\n",
       "      <th>offer_type__informational</th>\n",
       "    </tr>\n",
       "  </thead>\n",
       "  <tbody>\n",
       "    <tr>\n",
       "      <th>0</th>\n",
       "      <td>10</td>\n",
       "      <td>10</td>\n",
       "      <td>7</td>\n",
       "      <td>ae264e3637204a6fb9bb56bc8210ddfd</td>\n",
       "      <td>0</td>\n",
       "      <td>1</td>\n",
       "      <td>1</td>\n",
       "      <td>1</td>\n",
       "      <td>1</td>\n",
       "      <td>0</td>\n",
       "      <td>0</td>\n",
       "    </tr>\n",
       "    <tr>\n",
       "      <th>1</th>\n",
       "      <td>10</td>\n",
       "      <td>10</td>\n",
       "      <td>5</td>\n",
       "      <td>4d5c57ea9a6940dd891ad53e9dbe8da0</td>\n",
       "      <td>1</td>\n",
       "      <td>1</td>\n",
       "      <td>1</td>\n",
       "      <td>1</td>\n",
       "      <td>1</td>\n",
       "      <td>0</td>\n",
       "      <td>0</td>\n",
       "    </tr>\n",
       "    <tr>\n",
       "      <th>2</th>\n",
       "      <td>0</td>\n",
       "      <td>0</td>\n",
       "      <td>4</td>\n",
       "      <td>3f207df678b143eea3cee63160fa8bed</td>\n",
       "      <td>1</td>\n",
       "      <td>1</td>\n",
       "      <td>1</td>\n",
       "      <td>0</td>\n",
       "      <td>0</td>\n",
       "      <td>0</td>\n",
       "      <td>1</td>\n",
       "    </tr>\n",
       "    <tr>\n",
       "      <th>3</th>\n",
       "      <td>5</td>\n",
       "      <td>5</td>\n",
       "      <td>7</td>\n",
       "      <td>9b98b8c7a33c4b65b9aebfe6a799e6d9</td>\n",
       "      <td>1</td>\n",
       "      <td>1</td>\n",
       "      <td>1</td>\n",
       "      <td>0</td>\n",
       "      <td>1</td>\n",
       "      <td>0</td>\n",
       "      <td>0</td>\n",
       "    </tr>\n",
       "    <tr>\n",
       "      <th>4</th>\n",
       "      <td>5</td>\n",
       "      <td>20</td>\n",
       "      <td>10</td>\n",
       "      <td>0b1e1539f2cc45b7b9fa7c272da2e1d7</td>\n",
       "      <td>1</td>\n",
       "      <td>1</td>\n",
       "      <td>0</td>\n",
       "      <td>0</td>\n",
       "      <td>0</td>\n",
       "      <td>1</td>\n",
       "      <td>0</td>\n",
       "    </tr>\n",
       "  </tbody>\n",
       "</table>\n",
       "</div>"
      ],
      "text/plain": [
       "   reward  difficulty  duration                          offer_id  \\\n",
       "0      10          10         7  ae264e3637204a6fb9bb56bc8210ddfd   \n",
       "1      10          10         5  4d5c57ea9a6940dd891ad53e9dbe8da0   \n",
       "2       0           0         4  3f207df678b143eea3cee63160fa8bed   \n",
       "3       5           5         7  9b98b8c7a33c4b65b9aebfe6a799e6d9   \n",
       "4       5          20        10  0b1e1539f2cc45b7b9fa7c272da2e1d7   \n",
       "\n",
       "   web_channel  email_channel  mobile_channel  social_channel  \\\n",
       "0            0              1               1               1   \n",
       "1            1              1               1               1   \n",
       "2            1              1               1               0   \n",
       "3            1              1               1               0   \n",
       "4            1              1               0               0   \n",
       "\n",
       "   offer_type__bogo  offer_type__discount  offer_type__informational  \n",
       "0                 1                     0                          0  \n",
       "1                 1                     0                          0  \n",
       "2                 0                     0                          1  \n",
       "3                 1                     0                          0  \n",
       "4                 0                     1                          0  "
      ]
     },
     "execution_count": 21,
     "metadata": {},
     "output_type": "execute_result"
    }
   ],
   "source": [
    "portfolio.head()"
   ]
  },
  {
   "cell_type": "markdown",
   "metadata": {},
   "source": [
    "## Explore: Profile (customer's data)"
   ]
  },
  {
   "cell_type": "code",
   "execution_count": 22,
   "metadata": {
    "execution": {
     "iopub.execute_input": "2022-01-30T23:07:03.793228Z",
     "iopub.status.busy": "2022-01-30T23:07:03.792848Z",
     "iopub.status.idle": "2022-01-30T23:07:03.806539Z",
     "shell.execute_reply": "2022-01-30T23:07:03.805812Z",
     "shell.execute_reply.started": "2022-01-30T23:07:03.793194Z"
    }
   },
   "outputs": [
    {
     "data": {
      "text/html": [
       "<div>\n",
       "<style scoped>\n",
       "    .dataframe tbody tr th:only-of-type {\n",
       "        vertical-align: middle;\n",
       "    }\n",
       "\n",
       "    .dataframe tbody tr th {\n",
       "        vertical-align: top;\n",
       "    }\n",
       "\n",
       "    .dataframe thead th {\n",
       "        text-align: right;\n",
       "    }\n",
       "</style>\n",
       "<table border=\"1\" class=\"dataframe\">\n",
       "  <thead>\n",
       "    <tr style=\"text-align: right;\">\n",
       "      <th></th>\n",
       "      <th>gender</th>\n",
       "      <th>age</th>\n",
       "      <th>id</th>\n",
       "      <th>became_member_on</th>\n",
       "      <th>income</th>\n",
       "    </tr>\n",
       "  </thead>\n",
       "  <tbody>\n",
       "    <tr>\n",
       "      <th>0</th>\n",
       "      <td>None</td>\n",
       "      <td>118</td>\n",
       "      <td>68be06ca386d4c31939f3a4f0e3dd783</td>\n",
       "      <td>20170212</td>\n",
       "      <td>NaN</td>\n",
       "    </tr>\n",
       "    <tr>\n",
       "      <th>1</th>\n",
       "      <td>F</td>\n",
       "      <td>55</td>\n",
       "      <td>0610b486422d4921ae7d2bf64640c50b</td>\n",
       "      <td>20170715</td>\n",
       "      <td>112000.0</td>\n",
       "    </tr>\n",
       "    <tr>\n",
       "      <th>2</th>\n",
       "      <td>None</td>\n",
       "      <td>118</td>\n",
       "      <td>38fe809add3b4fcf9315a9694bb96ff5</td>\n",
       "      <td>20180712</td>\n",
       "      <td>NaN</td>\n",
       "    </tr>\n",
       "    <tr>\n",
       "      <th>3</th>\n",
       "      <td>F</td>\n",
       "      <td>75</td>\n",
       "      <td>78afa995795e4d85b5d9ceeca43f5fef</td>\n",
       "      <td>20170509</td>\n",
       "      <td>100000.0</td>\n",
       "    </tr>\n",
       "    <tr>\n",
       "      <th>4</th>\n",
       "      <td>None</td>\n",
       "      <td>118</td>\n",
       "      <td>a03223e636434f42ac4c3df47e8bac43</td>\n",
       "      <td>20170804</td>\n",
       "      <td>NaN</td>\n",
       "    </tr>\n",
       "  </tbody>\n",
       "</table>\n",
       "</div>"
      ],
      "text/plain": [
       "  gender  age                                id  became_member_on    income\n",
       "0   None  118  68be06ca386d4c31939f3a4f0e3dd783          20170212       NaN\n",
       "1      F   55  0610b486422d4921ae7d2bf64640c50b          20170715  112000.0\n",
       "2   None  118  38fe809add3b4fcf9315a9694bb96ff5          20180712       NaN\n",
       "3      F   75  78afa995795e4d85b5d9ceeca43f5fef          20170509  100000.0\n",
       "4   None  118  a03223e636434f42ac4c3df47e8bac43          20170804       NaN"
      ]
     },
     "execution_count": 22,
     "metadata": {},
     "output_type": "execute_result"
    }
   ],
   "source": [
    "profile.head()"
   ]
  },
  {
   "cell_type": "markdown",
   "metadata": {},
   "source": [
    "In this dataframe we can do the following modifications:\n",
    "\n",
    "- total time using the app\n",
    "- one hot encoding of gender"
   ]
  },
  {
   "cell_type": "code",
   "execution_count": 23,
   "metadata": {
    "execution": {
     "iopub.execute_input": "2022-01-30T23:07:03.808321Z",
     "iopub.status.busy": "2022-01-30T23:07:03.807758Z",
     "iopub.status.idle": "2022-01-30T23:07:03.821031Z",
     "shell.execute_reply": "2022-01-30T23:07:03.820385Z",
     "shell.execute_reply.started": "2022-01-30T23:07:03.808283Z"
    }
   },
   "outputs": [
    {
     "data": {
      "text/plain": [
       "count    17000.000000\n",
       "mean        62.531412\n",
       "std         26.738580\n",
       "min         18.000000\n",
       "25%         45.000000\n",
       "50%         58.000000\n",
       "75%         73.000000\n",
       "max        118.000000\n",
       "Name: age, dtype: float64"
      ]
     },
     "execution_count": 23,
     "metadata": {},
     "output_type": "execute_result"
    }
   ],
   "source": [
    "profile.age.describe()"
   ]
  },
  {
   "cell_type": "markdown",
   "metadata": {},
   "source": [
    "We can see that probably customers who didn't inform their age, are registered as 118 years old, which don't make sense."
   ]
  },
  {
   "cell_type": "code",
   "execution_count": 24,
   "metadata": {
    "execution": {
     "iopub.execute_input": "2022-01-30T23:07:03.822729Z",
     "iopub.status.busy": "2022-01-30T23:07:03.822018Z",
     "iopub.status.idle": "2022-01-30T23:07:03.830079Z",
     "shell.execute_reply": "2022-01-30T23:07:03.829338Z",
     "shell.execute_reply.started": "2022-01-30T23:07:03.822691Z"
    }
   },
   "outputs": [
    {
     "data": {
      "text/plain": [
       "(0.12794117647058822, 0.12794117647058822)"
      ]
     },
     "execution_count": 24,
     "metadata": {},
     "output_type": "execute_result"
    }
   ],
   "source": [
    "(profile['age'] == 118).sum()/len(profile), profile['income'].isna().sum()/len(profile)"
   ]
  },
  {
   "cell_type": "markdown",
   "metadata": {},
   "source": [
    "## Prepare data: clean process (profile df)"
   ]
  },
  {
   "cell_type": "markdown",
   "metadata": {},
   "source": [
    "We can see that the percentage of people who didn't inform age is the same as people who didn't inform their income and their gender as well. And, since this percentage is relatively small (13%) it makes sense if we drop the these rows, because we're not going to lose too much information."
   ]
  },
  {
   "cell_type": "code",
   "execution_count": 25,
   "metadata": {
    "execution": {
     "iopub.execute_input": "2022-01-30T23:07:03.831639Z",
     "iopub.status.busy": "2022-01-30T23:07:03.831258Z",
     "iopub.status.idle": "2022-01-30T23:07:03.883447Z",
     "shell.execute_reply": "2022-01-30T23:07:03.882824Z",
     "shell.execute_reply.started": "2022-01-30T23:07:03.831592Z"
    }
   },
   "outputs": [
    {
     "data": {
      "text/html": [
       "<div>\n",
       "<style scoped>\n",
       "    .dataframe tbody tr th:only-of-type {\n",
       "        vertical-align: middle;\n",
       "    }\n",
       "\n",
       "    .dataframe tbody tr th {\n",
       "        vertical-align: top;\n",
       "    }\n",
       "\n",
       "    .dataframe thead th {\n",
       "        text-align: right;\n",
       "    }\n",
       "</style>\n",
       "<table border=\"1\" class=\"dataframe\">\n",
       "  <thead>\n",
       "    <tr style=\"text-align: right;\">\n",
       "      <th></th>\n",
       "      <th>age</th>\n",
       "      <th>id</th>\n",
       "      <th>income</th>\n",
       "      <th>gender__F</th>\n",
       "      <th>gender__M</th>\n",
       "      <th>gender__O</th>\n",
       "      <th>days_as_member</th>\n",
       "    </tr>\n",
       "  </thead>\n",
       "  <tbody>\n",
       "    <tr>\n",
       "      <th>1</th>\n",
       "      <td>55</td>\n",
       "      <td>0610b486422d4921ae7d2bf64640c50b</td>\n",
       "      <td>112000.0</td>\n",
       "      <td>1</td>\n",
       "      <td>0</td>\n",
       "      <td>0</td>\n",
       "      <td>1661</td>\n",
       "    </tr>\n",
       "    <tr>\n",
       "      <th>3</th>\n",
       "      <td>75</td>\n",
       "      <td>78afa995795e4d85b5d9ceeca43f5fef</td>\n",
       "      <td>100000.0</td>\n",
       "      <td>1</td>\n",
       "      <td>0</td>\n",
       "      <td>0</td>\n",
       "      <td>1728</td>\n",
       "    </tr>\n",
       "    <tr>\n",
       "      <th>5</th>\n",
       "      <td>68</td>\n",
       "      <td>e2127556f4f64592b11af22de27a7932</td>\n",
       "      <td>70000.0</td>\n",
       "      <td>0</td>\n",
       "      <td>1</td>\n",
       "      <td>0</td>\n",
       "      <td>1376</td>\n",
       "    </tr>\n",
       "    <tr>\n",
       "      <th>8</th>\n",
       "      <td>65</td>\n",
       "      <td>389bc3fa690240e798340f5a15918d5c</td>\n",
       "      <td>53000.0</td>\n",
       "      <td>0</td>\n",
       "      <td>1</td>\n",
       "      <td>0</td>\n",
       "      <td>1452</td>\n",
       "    </tr>\n",
       "    <tr>\n",
       "      <th>12</th>\n",
       "      <td>58</td>\n",
       "      <td>2eeac8d8feae4a8cad5a6af0499a211d</td>\n",
       "      <td>51000.0</td>\n",
       "      <td>0</td>\n",
       "      <td>1</td>\n",
       "      <td>0</td>\n",
       "      <td>1542</td>\n",
       "    </tr>\n",
       "  </tbody>\n",
       "</table>\n",
       "</div>"
      ],
      "text/plain": [
       "    age                                id    income  gender__F  gender__M  \\\n",
       "1    55  0610b486422d4921ae7d2bf64640c50b  112000.0          1          0   \n",
       "3    75  78afa995795e4d85b5d9ceeca43f5fef  100000.0          1          0   \n",
       "5    68  e2127556f4f64592b11af22de27a7932   70000.0          0          1   \n",
       "8    65  389bc3fa690240e798340f5a15918d5c   53000.0          0          1   \n",
       "12   58  2eeac8d8feae4a8cad5a6af0499a211d   51000.0          0          1   \n",
       "\n",
       "    gender__O  days_as_member  \n",
       "1           0            1661  \n",
       "3           0            1728  \n",
       "5           0            1376  \n",
       "8           0            1452  \n",
       "12          0            1542  "
      ]
     },
     "execution_count": 25,
     "metadata": {},
     "output_type": "execute_result"
    }
   ],
   "source": [
    "def modify_profile(profile=profile):\n",
    "    try:\n",
    "        profile = pd.get_dummies(profile, columns=['gender'], dummy_na=False, prefix=\"gender_\")\n",
    "    except:\n",
    "        pass\n",
    "    \n",
    "    profile.became_member_on = pd.to_datetime(profile.became_member_on.apply(str), format='%Y%m%d')\n",
    "    \n",
    "    profile['now'] = pd.to_datetime('now')\n",
    "    profile['days_as_member'] = (profile['now'] - profile['became_member_on']).dt.days\n",
    "    profile.drop(columns=['became_member_on', 'now'], inplace=True)\n",
    "    \n",
    "    # drop nan\n",
    "    profile.dropna(subset=['income'], inplace=True)\n",
    "    \n",
    "    return profile\n",
    "\n",
    "profile = modify_profile()\n",
    "profile.head()"
   ]
  },
  {
   "cell_type": "code",
   "execution_count": 26,
   "metadata": {
    "execution": {
     "iopub.execute_input": "2022-01-30T23:07:03.884650Z",
     "iopub.status.busy": "2022-01-30T23:07:03.884409Z",
     "iopub.status.idle": "2022-01-30T23:07:04.396310Z",
     "shell.execute_reply": "2022-01-30T23:07:04.395623Z",
     "shell.execute_reply.started": "2022-01-30T23:07:03.884608Z"
    }
   },
   "outputs": [
    {
     "data": {
      "image/png": "[encoded data removed]",
      "text/plain": [
       "<Figure size 720x360 with 4 Axes>"
      ]
     },
     "metadata": {
      "needs_background": "light"
     },
     "output_type": "display_data"
    }
   ],
   "source": [
    "profile[['age', 'income', 'days_as_member']].hist(bins=30, figsize=(10, 5));"
   ]
  },
  {
   "cell_type": "code",
   "execution_count": 27,
   "metadata": {
    "execution": {
     "iopub.execute_input": "2022-01-30T23:07:04.397877Z",
     "iopub.status.busy": "2022-01-30T23:07:04.397628Z",
     "iopub.status.idle": "2022-01-30T23:07:04.407294Z",
     "shell.execute_reply": "2022-01-30T23:07:04.406627Z",
     "shell.execute_reply.started": "2022-01-30T23:07:04.397842Z"
    }
   },
   "outputs": [
    {
     "data": {
      "text/html": [
       "<div>\n",
       "<style scoped>\n",
       "    .dataframe tbody tr th:only-of-type {\n",
       "        vertical-align: middle;\n",
       "    }\n",
       "\n",
       "    .dataframe tbody tr th {\n",
       "        vertical-align: top;\n",
       "    }\n",
       "\n",
       "    .dataframe thead th {\n",
       "        text-align: right;\n",
       "    }\n",
       "</style>\n",
       "<table border=\"1\" class=\"dataframe\">\n",
       "  <thead>\n",
       "    <tr style=\"text-align: right;\">\n",
       "      <th></th>\n",
       "      <th>customer_id</th>\n",
       "      <th>event</th>\n",
       "      <th>time</th>\n",
       "      <th>amount</th>\n",
       "    </tr>\n",
       "  </thead>\n",
       "  <tbody>\n",
       "    <tr>\n",
       "      <th>12654</th>\n",
       "      <td>02c083884c7d45b39cc68e1314fec56c</td>\n",
       "      <td>transaction</td>\n",
       "      <td>0</td>\n",
       "      <td>0.83</td>\n",
       "    </tr>\n",
       "    <tr>\n",
       "      <th>12657</th>\n",
       "      <td>9fa9ae8f57894cc9a3b8a9bbe0fc1b2f</td>\n",
       "      <td>transaction</td>\n",
       "      <td>0</td>\n",
       "      <td>34.56</td>\n",
       "    </tr>\n",
       "    <tr>\n",
       "      <th>12659</th>\n",
       "      <td>54890f68699049c2a04d415abc25e717</td>\n",
       "      <td>transaction</td>\n",
       "      <td>0</td>\n",
       "      <td>13.23</td>\n",
       "    </tr>\n",
       "    <tr>\n",
       "      <th>12670</th>\n",
       "      <td>b2f1cd155b864803ad8334cdf13c4bd2</td>\n",
       "      <td>transaction</td>\n",
       "      <td>0</td>\n",
       "      <td>19.51</td>\n",
       "    </tr>\n",
       "    <tr>\n",
       "      <th>12671</th>\n",
       "      <td>fe97aa22dd3e48c8b143116a8403dd52</td>\n",
       "      <td>transaction</td>\n",
       "      <td>0</td>\n",
       "      <td>18.97</td>\n",
       "    </tr>\n",
       "  </tbody>\n",
       "</table>\n",
       "</div>"
      ],
      "text/plain": [
       "                            customer_id        event  time  amount\n",
       "12654  02c083884c7d45b39cc68e1314fec56c  transaction     0    0.83\n",
       "12657  9fa9ae8f57894cc9a3b8a9bbe0fc1b2f  transaction     0   34.56\n",
       "12659  54890f68699049c2a04d415abc25e717  transaction     0   13.23\n",
       "12670  b2f1cd155b864803ad8334cdf13c4bd2  transaction     0   19.51\n",
       "12671  fe97aa22dd3e48c8b143116a8403dd52  transaction     0   18.97"
      ]
     },
     "execution_count": 27,
     "metadata": {},
     "output_type": "execute_result"
    }
   ],
   "source": [
    "# we can use the transactions df that we extracted from the transcript df to add valuable \n",
    "# information to the profile df, which contains customer's data\n",
    "transaction.head()"
   ]
  },
  {
   "cell_type": "markdown",
   "metadata": {},
   "source": [
    "## Prepare data: merge data (transcript df)"
   ]
  },
  {
   "cell_type": "markdown",
   "metadata": {},
   "source": [
    "We're going to calculate the number of transactions per user and the total amount per user. This information will be valuable to add to the profile df:\n",
    "\n",
    "- Number of transactions\n",
    "- Total amount"
   ]
  },
  {
   "cell_type": "code",
   "execution_count": 28,
   "metadata": {
    "execution": {
     "iopub.execute_input": "2022-01-30T23:07:04.412569Z",
     "iopub.status.busy": "2022-01-30T23:07:04.412117Z",
     "iopub.status.idle": "2022-01-30T23:07:04.420557Z",
     "shell.execute_reply": "2022-01-30T23:07:04.419833Z",
     "shell.execute_reply.started": "2022-01-30T23:07:04.412531Z"
    }
   },
   "outputs": [],
   "source": [
    "def merge_profile_df(profile=profile, transaction=transaction):\n",
    "    '''\n",
    "    this function merge the profile df with data from transaction df. Columns:\n",
    "    - age: customer's age\n",
    "    - customer_id\n",
    "    - income: customer's income\n",
    "    - gender: M, F, O with one-hot-encoding\n",
    "    - days_as_member: time in days using the app\n",
    "    - number_of_transactions: total transactions using the app\n",
    "    - total_amount: total amount of money spent on the app\n",
    "    '''\n",
    "    # number of transactions per customer\n",
    "    number_of_transactions = pd.DataFrame(\n",
    "        transaction.groupby(['customer_id']).size(), columns=['number_of_transactions']).reset_index(level=0)\n",
    "    number_of_transactions.columns = ['customer_id', 'number_of_transactions']\n",
    "    \n",
    "    # merge the number of transactions on customer_id\n",
    "    profile.columns = ['age', 'customer_id', 'income', 'gender__F', 'gender__M', 'gender__O', 'days_as_member']\n",
    "    profile = profile.merge(number_of_transactions, how='left', on='customer_id')\n",
    "    \n",
    "    # total amount spent per customer\n",
    "    total_amount = pd.DataFrame(transaction.groupby(['customer_id']).sum()['amount'])\n",
    "    total_amount = total_amount.reset_index(level=0)\n",
    "    total_amount.columns = ['customer_id', 'total_amount']\n",
    "    \n",
    "    # merge the total_amount on customer_id\n",
    "    profile = profile.merge(total_amount, how='left', on='customer_id')\n",
    "    \n",
    "    return profile"
   ]
  },
  {
   "cell_type": "markdown",
   "metadata": {},
   "source": [
    "Since we have just 2.2% of missing values after the merge operation, it does make sense to drop the rows with missing values.\n",
    "\n",
    "The profile df after the merge provides interesting information of the consumption of the customers based on demographic data. So, we can make some visuals with this df."
   ]
  },
  {
   "cell_type": "code",
   "execution_count": 29,
   "metadata": {
    "execution": {
     "iopub.execute_input": "2022-01-30T23:07:04.422230Z",
     "iopub.status.busy": "2022-01-30T23:07:04.421756Z",
     "iopub.status.idle": "2022-01-30T23:07:04.587165Z",
     "shell.execute_reply": "2022-01-30T23:07:04.586369Z",
     "shell.execute_reply.started": "2022-01-30T23:07:04.422192Z"
    }
   },
   "outputs": [
    {
     "data": {
      "text/html": [
       "<div>\n",
       "<style scoped>\n",
       "    .dataframe tbody tr th:only-of-type {\n",
       "        vertical-align: middle;\n",
       "    }\n",
       "\n",
       "    .dataframe tbody tr th {\n",
       "        vertical-align: top;\n",
       "    }\n",
       "\n",
       "    .dataframe thead th {\n",
       "        text-align: right;\n",
       "    }\n",
       "</style>\n",
       "<table border=\"1\" class=\"dataframe\">\n",
       "  <thead>\n",
       "    <tr style=\"text-align: right;\">\n",
       "      <th></th>\n",
       "      <th>age</th>\n",
       "      <th>customer_id</th>\n",
       "      <th>income</th>\n",
       "      <th>gender__F</th>\n",
       "      <th>gender__M</th>\n",
       "      <th>gender__O</th>\n",
       "      <th>days_as_member</th>\n",
       "      <th>number_of_transactions</th>\n",
       "      <th>total_amount</th>\n",
       "    </tr>\n",
       "  </thead>\n",
       "  <tbody>\n",
       "    <tr>\n",
       "      <th>0</th>\n",
       "      <td>55</td>\n",
       "      <td>0610b486422d4921ae7d2bf64640c50b</td>\n",
       "      <td>112000.0</td>\n",
       "      <td>1</td>\n",
       "      <td>0</td>\n",
       "      <td>0</td>\n",
       "      <td>1661</td>\n",
       "      <td>3.0</td>\n",
       "      <td>77.01</td>\n",
       "    </tr>\n",
       "    <tr>\n",
       "      <th>1</th>\n",
       "      <td>75</td>\n",
       "      <td>78afa995795e4d85b5d9ceeca43f5fef</td>\n",
       "      <td>100000.0</td>\n",
       "      <td>1</td>\n",
       "      <td>0</td>\n",
       "      <td>0</td>\n",
       "      <td>1728</td>\n",
       "      <td>7.0</td>\n",
       "      <td>159.27</td>\n",
       "    </tr>\n",
       "    <tr>\n",
       "      <th>2</th>\n",
       "      <td>68</td>\n",
       "      <td>e2127556f4f64592b11af22de27a7932</td>\n",
       "      <td>70000.0</td>\n",
       "      <td>0</td>\n",
       "      <td>1</td>\n",
       "      <td>0</td>\n",
       "      <td>1376</td>\n",
       "      <td>3.0</td>\n",
       "      <td>57.73</td>\n",
       "    </tr>\n",
       "    <tr>\n",
       "      <th>3</th>\n",
       "      <td>65</td>\n",
       "      <td>389bc3fa690240e798340f5a15918d5c</td>\n",
       "      <td>53000.0</td>\n",
       "      <td>0</td>\n",
       "      <td>1</td>\n",
       "      <td>0</td>\n",
       "      <td>1452</td>\n",
       "      <td>3.0</td>\n",
       "      <td>36.43</td>\n",
       "    </tr>\n",
       "    <tr>\n",
       "      <th>4</th>\n",
       "      <td>58</td>\n",
       "      <td>2eeac8d8feae4a8cad5a6af0499a211d</td>\n",
       "      <td>51000.0</td>\n",
       "      <td>0</td>\n",
       "      <td>1</td>\n",
       "      <td>0</td>\n",
       "      <td>1542</td>\n",
       "      <td>4.0</td>\n",
       "      <td>15.62</td>\n",
       "    </tr>\n",
       "  </tbody>\n",
       "</table>\n",
       "</div>"
      ],
      "text/plain": [
       "   age                       customer_id    income  gender__F  gender__M  \\\n",
       "0   55  0610b486422d4921ae7d2bf64640c50b  112000.0          1          0   \n",
       "1   75  78afa995795e4d85b5d9ceeca43f5fef  100000.0          1          0   \n",
       "2   68  e2127556f4f64592b11af22de27a7932   70000.0          0          1   \n",
       "3   65  389bc3fa690240e798340f5a15918d5c   53000.0          0          1   \n",
       "4   58  2eeac8d8feae4a8cad5a6af0499a211d   51000.0          0          1   \n",
       "\n",
       "   gender__O  days_as_member  number_of_transactions  total_amount  \n",
       "0          0            1661                     3.0         77.01  \n",
       "1          0            1728                     7.0        159.27  \n",
       "2          0            1376                     3.0         57.73  \n",
       "3          0            1452                     3.0         36.43  \n",
       "4          0            1542                     4.0         15.62  "
      ]
     },
     "execution_count": 29,
     "metadata": {},
     "output_type": "execute_result"
    }
   ],
   "source": [
    "profile = merge_profile_df(profile=profile, transaction=transaction)\n",
    "profile.head()"
   ]
  },
  {
   "cell_type": "code",
   "execution_count": 30,
   "metadata": {
    "execution": {
     "iopub.execute_input": "2022-01-30T23:07:04.589025Z",
     "iopub.status.busy": "2022-01-30T23:07:04.588561Z",
     "iopub.status.idle": "2022-01-30T23:07:05.787798Z",
     "shell.execute_reply": "2022-01-30T23:07:05.787086Z",
     "shell.execute_reply.started": "2022-01-30T23:07:04.588982Z"
    }
   },
   "outputs": [
    {
     "data": {
      "image/png": "[encoded data removed]",
      "text/plain": [
       "<Figure size 720x576 with 6 Axes>"
      ]
     },
     "metadata": {
      "needs_background": "light"
     },
     "output_type": "display_data"
    }
   ],
   "source": [
    "profile[['age', 'income', 'days_as_member', 'number_of_transactions', 'total_amount']].hist(bins=50, figsize=(10, 8));"
   ]
  },
  {
   "cell_type": "markdown",
   "metadata": {},
   "source": [
    "## Merge all dataframes"
   ]
  },
  {
   "cell_type": "markdown",
   "metadata": {},
   "source": [
    "Let's add the customer's information to the event_df dataframe"
   ]
  },
  {
   "cell_type": "code",
   "execution_count": 31,
   "metadata": {
    "execution": {
     "iopub.execute_input": "2022-01-30T23:07:05.789469Z",
     "iopub.status.busy": "2022-01-30T23:07:05.789065Z",
     "iopub.status.idle": "2022-01-30T23:07:05.849480Z",
     "shell.execute_reply": "2022-01-30T23:07:05.848740Z",
     "shell.execute_reply.started": "2022-01-30T23:07:05.789431Z"
    }
   },
   "outputs": [],
   "source": [
    "df = event_df.merge(profile, how='left', on='customer_id').dropna()"
   ]
  },
  {
   "cell_type": "markdown",
   "metadata": {},
   "source": [
    "And then, let's add the offer's information"
   ]
  },
  {
   "cell_type": "code",
   "execution_count": 32,
   "metadata": {
    "execution": {
     "iopub.execute_input": "2022-01-30T23:07:05.851169Z",
     "iopub.status.busy": "2022-01-30T23:07:05.850702Z",
     "iopub.status.idle": "2022-01-30T23:07:05.873624Z",
     "shell.execute_reply": "2022-01-30T23:07:05.872990Z",
     "shell.execute_reply.started": "2022-01-30T23:07:05.851128Z"
    }
   },
   "outputs": [],
   "source": [
    "df = df.merge(portfolio, how='left', on='offer_id')"
   ]
  },
  {
   "cell_type": "code",
   "execution_count": 33,
   "metadata": {
    "execution": {
     "iopub.execute_input": "2022-01-30T23:07:05.875435Z",
     "iopub.status.busy": "2022-01-30T23:07:05.874782Z",
     "iopub.status.idle": "2022-01-30T23:07:05.899245Z",
     "shell.execute_reply": "2022-01-30T23:07:05.898531Z",
     "shell.execute_reply.started": "2022-01-30T23:07:05.875399Z"
    },
    "scrolled": true
   },
   "outputs": [
    {
     "data": {
      "text/html": [
       "<div>\n",
       "<style scoped>\n",
       "    .dataframe tbody tr th:only-of-type {\n",
       "        vertical-align: middle;\n",
       "    }\n",
       "\n",
       "    .dataframe tbody tr th {\n",
       "        vertical-align: top;\n",
       "    }\n",
       "\n",
       "    .dataframe thead th {\n",
       "        text-align: right;\n",
       "    }\n",
       "</style>\n",
       "<table border=\"1\" class=\"dataframe\">\n",
       "  <thead>\n",
       "    <tr style=\"text-align: right;\">\n",
       "      <th></th>\n",
       "      <th>customer_id</th>\n",
       "      <th>offer_id</th>\n",
       "      <th>customer_responded</th>\n",
       "      <th>age</th>\n",
       "      <th>income</th>\n",
       "      <th>gender__F</th>\n",
       "      <th>gender__M</th>\n",
       "      <th>gender__O</th>\n",
       "      <th>days_as_member</th>\n",
       "      <th>number_of_transactions</th>\n",
       "      <th>...</th>\n",
       "      <th>reward</th>\n",
       "      <th>difficulty</th>\n",
       "      <th>duration</th>\n",
       "      <th>web_channel</th>\n",
       "      <th>email_channel</th>\n",
       "      <th>mobile_channel</th>\n",
       "      <th>social_channel</th>\n",
       "      <th>offer_type__bogo</th>\n",
       "      <th>offer_type__discount</th>\n",
       "      <th>offer_type__informational</th>\n",
       "    </tr>\n",
       "  </thead>\n",
       "  <tbody>\n",
       "    <tr>\n",
       "      <th>0</th>\n",
       "      <td>78afa995795e4d85b5d9ceeca43f5fef</td>\n",
       "      <td>9b98b8c7a33c4b65b9aebfe6a799e6d9</td>\n",
       "      <td>1.0</td>\n",
       "      <td>75.0</td>\n",
       "      <td>100000.0</td>\n",
       "      <td>1.0</td>\n",
       "      <td>0.0</td>\n",
       "      <td>0.0</td>\n",
       "      <td>1728.0</td>\n",
       "      <td>7.0</td>\n",
       "      <td>...</td>\n",
       "      <td>5</td>\n",
       "      <td>5</td>\n",
       "      <td>7</td>\n",
       "      <td>1</td>\n",
       "      <td>1</td>\n",
       "      <td>1</td>\n",
       "      <td>0</td>\n",
       "      <td>1</td>\n",
       "      <td>0</td>\n",
       "      <td>0</td>\n",
       "    </tr>\n",
       "    <tr>\n",
       "      <th>1</th>\n",
       "      <td>e2127556f4f64592b11af22de27a7932</td>\n",
       "      <td>2906b810c7d4411798c6938adc9daaa5</td>\n",
       "      <td>0.0</td>\n",
       "      <td>68.0</td>\n",
       "      <td>70000.0</td>\n",
       "      <td>0.0</td>\n",
       "      <td>1.0</td>\n",
       "      <td>0.0</td>\n",
       "      <td>1376.0</td>\n",
       "      <td>3.0</td>\n",
       "      <td>...</td>\n",
       "      <td>2</td>\n",
       "      <td>10</td>\n",
       "      <td>7</td>\n",
       "      <td>1</td>\n",
       "      <td>1</td>\n",
       "      <td>1</td>\n",
       "      <td>0</td>\n",
       "      <td>0</td>\n",
       "      <td>1</td>\n",
       "      <td>0</td>\n",
       "    </tr>\n",
       "    <tr>\n",
       "      <th>2</th>\n",
       "      <td>389bc3fa690240e798340f5a15918d5c</td>\n",
       "      <td>f19421c1d4aa40978ebb69ca19b0e20d</td>\n",
       "      <td>1.0</td>\n",
       "      <td>65.0</td>\n",
       "      <td>53000.0</td>\n",
       "      <td>0.0</td>\n",
       "      <td>1.0</td>\n",
       "      <td>0.0</td>\n",
       "      <td>1452.0</td>\n",
       "      <td>3.0</td>\n",
       "      <td>...</td>\n",
       "      <td>5</td>\n",
       "      <td>5</td>\n",
       "      <td>5</td>\n",
       "      <td>1</td>\n",
       "      <td>1</td>\n",
       "      <td>1</td>\n",
       "      <td>1</td>\n",
       "      <td>1</td>\n",
       "      <td>0</td>\n",
       "      <td>0</td>\n",
       "    </tr>\n",
       "    <tr>\n",
       "      <th>3</th>\n",
       "      <td>389bc3fa690240e798340f5a15918d5c</td>\n",
       "      <td>f19421c1d4aa40978ebb69ca19b0e20d</td>\n",
       "      <td>1.0</td>\n",
       "      <td>65.0</td>\n",
       "      <td>53000.0</td>\n",
       "      <td>0.0</td>\n",
       "      <td>1.0</td>\n",
       "      <td>0.0</td>\n",
       "      <td>1452.0</td>\n",
       "      <td>3.0</td>\n",
       "      <td>...</td>\n",
       "      <td>5</td>\n",
       "      <td>5</td>\n",
       "      <td>5</td>\n",
       "      <td>1</td>\n",
       "      <td>1</td>\n",
       "      <td>1</td>\n",
       "      <td>1</td>\n",
       "      <td>1</td>\n",
       "      <td>0</td>\n",
       "      <td>0</td>\n",
       "    </tr>\n",
       "    <tr>\n",
       "      <th>4</th>\n",
       "      <td>389bc3fa690240e798340f5a15918d5c</td>\n",
       "      <td>f19421c1d4aa40978ebb69ca19b0e20d</td>\n",
       "      <td>1.0</td>\n",
       "      <td>65.0</td>\n",
       "      <td>53000.0</td>\n",
       "      <td>0.0</td>\n",
       "      <td>1.0</td>\n",
       "      <td>0.0</td>\n",
       "      <td>1452.0</td>\n",
       "      <td>3.0</td>\n",
       "      <td>...</td>\n",
       "      <td>5</td>\n",
       "      <td>5</td>\n",
       "      <td>5</td>\n",
       "      <td>1</td>\n",
       "      <td>1</td>\n",
       "      <td>1</td>\n",
       "      <td>1</td>\n",
       "      <td>1</td>\n",
       "      <td>0</td>\n",
       "      <td>0</td>\n",
       "    </tr>\n",
       "  </tbody>\n",
       "</table>\n",
       "<p>5 rows × 21 columns</p>\n",
       "</div>"
      ],
      "text/plain": [
       "                        customer_id                          offer_id  \\\n",
       "0  78afa995795e4d85b5d9ceeca43f5fef  9b98b8c7a33c4b65b9aebfe6a799e6d9   \n",
       "1  e2127556f4f64592b11af22de27a7932  2906b810c7d4411798c6938adc9daaa5   \n",
       "2  389bc3fa690240e798340f5a15918d5c  f19421c1d4aa40978ebb69ca19b0e20d   \n",
       "3  389bc3fa690240e798340f5a15918d5c  f19421c1d4aa40978ebb69ca19b0e20d   \n",
       "4  389bc3fa690240e798340f5a15918d5c  f19421c1d4aa40978ebb69ca19b0e20d   \n",
       "\n",
       "   customer_responded   age    income  gender__F  gender__M  gender__O  \\\n",
       "0                 1.0  75.0  100000.0        1.0        0.0        0.0   \n",
       "1                 0.0  68.0   70000.0        0.0        1.0        0.0   \n",
       "2                 1.0  65.0   53000.0        0.0        1.0        0.0   \n",
       "3                 1.0  65.0   53000.0        0.0        1.0        0.0   \n",
       "4                 1.0  65.0   53000.0        0.0        1.0        0.0   \n",
       "\n",
       "   days_as_member  number_of_transactions  ...  reward  difficulty  duration  \\\n",
       "0          1728.0                     7.0  ...       5           5         7   \n",
       "1          1376.0                     3.0  ...       2          10         7   \n",
       "2          1452.0                     3.0  ...       5           5         5   \n",
       "3          1452.0                     3.0  ...       5           5         5   \n",
       "4          1452.0                     3.0  ...       5           5         5   \n",
       "\n",
       "   web_channel  email_channel  mobile_channel  social_channel  \\\n",
       "0            1              1               1               0   \n",
       "1            1              1               1               0   \n",
       "2            1              1               1               1   \n",
       "3            1              1               1               1   \n",
       "4            1              1               1               1   \n",
       "\n",
       "   offer_type__bogo  offer_type__discount  offer_type__informational  \n",
       "0                 1                     0                          0  \n",
       "1                 0                     1                          0  \n",
       "2                 1                     0                          0  \n",
       "3                 1                     0                          0  \n",
       "4                 1                     0                          0  \n",
       "\n",
       "[5 rows x 21 columns]"
      ]
     },
     "execution_count": 33,
     "metadata": {},
     "output_type": "execute_result"
    }
   ],
   "source": [
    "df.head()"
   ]
  },
  {
   "cell_type": "code",
   "execution_count": 34,
   "metadata": {
    "execution": {
     "iopub.execute_input": "2022-01-30T23:07:05.900834Z",
     "iopub.status.busy": "2022-01-30T23:07:05.900396Z",
     "iopub.status.idle": "2022-01-30T23:07:05.907644Z",
     "shell.execute_reply": "2022-01-30T23:07:05.906763Z",
     "shell.execute_reply.started": "2022-01-30T23:07:05.900788Z"
    }
   },
   "outputs": [
    {
     "data": {
      "text/plain": [
       "0.5952205162204107"
      ]
     },
     "execution_count": 34,
     "metadata": {},
     "output_type": "execute_result"
    }
   ],
   "source": [
    "# Let's see if the data is balanced\n",
    "df.customer_responded.sum() / len(df)"
   ]
  },
  {
   "cell_type": "markdown",
   "metadata": {},
   "source": [
    "# Section 4: Data Modeling "
   ]
  },
  {
   "cell_type": "markdown",
   "metadata": {},
   "source": [
    "Then, let's separate the df into X and Y (target) variables"
   ]
  },
  {
   "cell_type": "code",
   "execution_count": 35,
   "metadata": {
    "execution": {
     "iopub.execute_input": "2022-01-30T23:07:05.909694Z",
     "iopub.status.busy": "2022-01-30T23:07:05.908927Z",
     "iopub.status.idle": "2022-01-30T23:07:05.914298Z",
     "shell.execute_reply": "2022-01-30T23:07:05.913578Z",
     "shell.execute_reply.started": "2022-01-30T23:07:05.909654Z"
    }
   },
   "outputs": [],
   "source": [
    "int_cols = ['age', 'income', 'gender__F', 'gender__M', 'gender__O', 'days_as_member',\n",
    "     'number_of_transactions', 'reward', 'difficulty', 'duration', 'web_channel',\n",
    "     'email_channel', 'mobile_channel', 'social_channel', 'offer_type__bogo', \n",
    "     'offer_type__discount', 'offer_type__informational']"
   ]
  },
  {
   "cell_type": "code",
   "execution_count": 36,
   "metadata": {
    "execution": {
     "iopub.execute_input": "2022-01-30T23:07:05.916366Z",
     "iopub.status.busy": "2022-01-30T23:07:05.915578Z",
     "iopub.status.idle": "2022-01-30T23:07:05.927552Z",
     "shell.execute_reply": "2022-01-30T23:07:05.926849Z",
     "shell.execute_reply.started": "2022-01-30T23:07:05.916328Z"
    }
   },
   "outputs": [
    {
     "data": {
      "text/plain": [
       "Index(['age', 'income', 'gender__F', 'gender__M', 'gender__O',\n",
       "       'days_as_member', 'number_of_transactions', 'total_amount', 'reward',\n",
       "       'difficulty', 'duration', 'web_channel', 'email_channel',\n",
       "       'mobile_channel', 'social_channel', 'offer_type__bogo',\n",
       "       'offer_type__discount', 'offer_type__informational'],\n",
       "      dtype='object')"
      ]
     },
     "execution_count": 36,
     "metadata": {},
     "output_type": "execute_result"
    }
   ],
   "source": [
    "df.columns[3:]"
   ]
  },
  {
   "cell_type": "code",
   "execution_count": 37,
   "metadata": {
    "execution": {
     "iopub.execute_input": "2022-01-30T23:07:05.929527Z",
     "iopub.status.busy": "2022-01-30T23:07:05.928759Z",
     "iopub.status.idle": "2022-01-30T23:07:05.957308Z",
     "shell.execute_reply": "2022-01-30T23:07:05.956625Z",
     "shell.execute_reply.started": "2022-01-30T23:07:05.929489Z"
    }
   },
   "outputs": [
    {
     "name": "stderr",
     "output_type": "stream",
     "text": [
      "/home/hugo/anaconda3/lib/python3.8/site-packages/pandas/core/frame.py:3191: SettingWithCopyWarning: \n",
      "A value is trying to be set on a copy of a slice from a DataFrame.\n",
      "Try using .loc[row_indexer,col_indexer] = value instead\n",
      "\n",
      "See the caveats in the documentation: https://pandas.pydata.org/pandas-docs/stable/user_guide/indexing.html#returning-a-view-versus-a-copy\n",
      "  self[k1] = value[k2]\n"
     ]
    }
   ],
   "source": [
    "X = df[df.columns[3:]]\n",
    "X[int_cols] = X[int_cols].astype(int)\n",
    "y = df['customer_responded'].astype('category')"
   ]
  },
  {
   "cell_type": "code",
   "execution_count": 38,
   "metadata": {
    "execution": {
     "iopub.execute_input": "2022-01-30T23:07:05.959319Z",
     "iopub.status.busy": "2022-01-30T23:07:05.958294Z",
     "iopub.status.idle": "2022-01-30T23:07:05.978429Z",
     "shell.execute_reply": "2022-01-30T23:07:05.977673Z",
     "shell.execute_reply.started": "2022-01-30T23:07:05.959283Z"
    }
   },
   "outputs": [],
   "source": [
    "from sklearn.model_selection import train_test_split\n",
    "\n",
    "train_X, val_X, train_y, val_y = train_test_split(X, y, random_state = 0, shuffle=True)"
   ]
  },
  {
   "cell_type": "code",
   "execution_count": 39,
   "metadata": {
    "execution": {
     "iopub.execute_input": "2022-01-30T23:07:05.980263Z",
     "iopub.status.busy": "2022-01-30T23:07:05.979879Z",
     "iopub.status.idle": "2022-01-30T23:07:20.315474Z",
     "shell.execute_reply": "2022-01-30T23:07:20.314797Z",
     "shell.execute_reply.started": "2022-01-30T23:07:05.980227Z"
    }
   },
   "outputs": [
    {
     "data": {
      "text/plain": [
       "RandomForestRegressor()"
      ]
     },
     "execution_count": 39,
     "metadata": {},
     "output_type": "execute_result"
    }
   ],
   "source": [
    "from sklearn.ensemble import RandomForestRegressor\n",
    "\n",
    "clf = RandomForestRegressor()\n",
    "clf.fit(train_X, train_y)"
   ]
  },
  {
   "cell_type": "code",
   "execution_count": 40,
   "metadata": {
    "execution": {
     "iopub.execute_input": "2022-01-30T23:07:20.316981Z",
     "iopub.status.busy": "2022-01-30T23:07:20.316652Z",
     "iopub.status.idle": "2022-01-30T23:07:20.530585Z",
     "shell.execute_reply": "2022-01-30T23:07:20.529960Z",
     "shell.execute_reply.started": "2022-01-30T23:07:20.316929Z"
    }
   },
   "outputs": [
    {
     "data": {
      "text/plain": [
       "array([1., 0., 1., ..., 1., 1., 1.])"
      ]
     },
     "execution_count": 40,
     "metadata": {},
     "output_type": "execute_result"
    }
   ],
   "source": [
    "pred = np.around(clf.predict(val_X))\n",
    "pred"
   ]
  },
  {
   "cell_type": "markdown",
   "metadata": {},
   "source": [
    "# Section 5: Evaluate the Model"
   ]
  },
  {
   "cell_type": "code",
   "execution_count": 41,
   "metadata": {
    "execution": {
     "iopub.execute_input": "2022-01-30T23:07:20.532114Z",
     "iopub.status.busy": "2022-01-30T23:07:20.531725Z",
     "iopub.status.idle": "2022-01-30T23:07:20.541089Z",
     "shell.execute_reply": "2022-01-30T23:07:20.540313Z",
     "shell.execute_reply.started": "2022-01-30T23:07:20.532069Z"
    }
   },
   "outputs": [
    {
     "name": "stdout",
     "output_type": "stream",
     "text": [
      "Accuracy:  0.9263500482160077\n"
     ]
    }
   ],
   "source": [
    "from sklearn.metrics import accuracy_score\n",
    "\n",
    "accuracy = accuracy_score(val_y, pred)\n",
    "print('Accuracy: ', accuracy)"
   ]
  },
  {
   "cell_type": "code",
   "execution_count": 42,
   "metadata": {
    "execution": {
     "iopub.execute_input": "2022-01-30T23:07:20.543019Z",
     "iopub.status.busy": "2022-01-30T23:07:20.542456Z",
     "iopub.status.idle": "2022-01-30T23:07:20.584396Z",
     "shell.execute_reply": "2022-01-30T23:07:20.583654Z",
     "shell.execute_reply.started": "2022-01-30T23:07:20.542982Z"
    }
   },
   "outputs": [
    {
     "name": "stdout",
     "output_type": "stream",
     "text": [
      "              precision    recall  f1-score   support\n",
      "\n",
      "         0.0       0.93      0.88      0.91      6666\n",
      "         1.0       0.92      0.96      0.94      9926\n",
      "\n",
      "    accuracy                           0.93     16592\n",
      "   macro avg       0.93      0.92      0.92     16592\n",
      "weighted avg       0.93      0.93      0.93     16592\n",
      "\n"
     ]
    }
   ],
   "source": [
    "from sklearn.metrics import classification_report\n",
    "\n",
    "print(classification_report(val_y,pred))"
   ]
  },
  {
   "cell_type": "markdown",
   "metadata": {},
   "source": [
    "# Section 6: Hyperparameter tuning"
   ]
  },
  {
   "cell_type": "code",
   "execution_count": 43,
   "metadata": {
    "execution": {
     "iopub.execute_input": "2022-01-30T23:07:20.587113Z",
     "iopub.status.busy": "2022-01-30T23:07:20.586610Z",
     "iopub.status.idle": "2022-01-30T23:07:20.595894Z",
     "shell.execute_reply": "2022-01-30T23:07:20.595065Z",
     "shell.execute_reply.started": "2022-01-30T23:07:20.587074Z"
    }
   },
   "outputs": [
    {
     "name": "stdout",
     "output_type": "stream",
     "text": [
      "{'n_estimators': [50, 200, 350, 500], 'max_features': ['auto', 'sqrt'], 'max_depth': [10, 43, 76, 110, None], 'bootstrap': [True, False]}\n"
     ]
    }
   ],
   "source": [
    "from sklearn.model_selection import RandomizedSearchCV\n",
    "\n",
    "# Number of trees in random forest\n",
    "n_estimators = [int(x) for x in np.linspace(start = 50, stop = 500, num = 4)]\n",
    "# Number of features to consider at every split\n",
    "max_features = ['auto', 'sqrt']\n",
    "# Maximum number of levels in tree\n",
    "max_depth = [int(x) for x in np.linspace(10, 110, num = 4)]\n",
    "max_depth.append(None)\n",
    "# Method of selecting samples for training each tree\n",
    "bootstrap = [True, False]# Create the random grid\n",
    "random_grid = {'n_estimators': n_estimators,\n",
    "               'max_features': max_features,\n",
    "               'max_depth': max_depth,\n",
    "               'bootstrap': bootstrap}\n",
    "\n",
    "print(random_grid)"
   ]
  },
  {
   "cell_type": "code",
   "execution_count": 44,
   "metadata": {
    "execution": {
     "iopub.execute_input": "2022-01-30T23:07:20.598549Z",
     "iopub.status.busy": "2022-01-30T23:07:20.596898Z",
     "iopub.status.idle": "2022-01-30T23:12:19.725239Z",
     "shell.execute_reply": "2022-01-30T23:12:19.724452Z",
     "shell.execute_reply.started": "2022-01-30T23:07:20.597103Z"
    }
   },
   "outputs": [
    {
     "name": "stdout",
     "output_type": "stream",
     "text": [
      "Fitting 3 folds for each of 10 candidates, totalling 30 fits\n"
     ]
    },
    {
     "data": {
      "text/plain": [
       "RandomizedSearchCV(cv=3, estimator=RandomForestRegressor(), n_jobs=-1,\n",
       "                   param_distributions={'bootstrap': [True, False],\n",
       "                                        'max_depth': [10, 43, 76, 110, None],\n",
       "                                        'max_features': ['auto', 'sqrt'],\n",
       "                                        'n_estimators': [50, 200, 350, 500]},\n",
       "                   random_state=42, verbose=10)"
      ]
     },
     "execution_count": 44,
     "metadata": {},
     "output_type": "execute_result"
    }
   ],
   "source": [
    "# Use the random grid to search for best hyperparameters\n",
    "# First create the base model to tune\n",
    "rf = RandomForestRegressor()\n",
    "# Random search of parameters, using 3 fold cross validation, \n",
    "# search across 100 different combinations, and use all available cores\n",
    "rf_random = RandomizedSearchCV(estimator = rf, param_distributions = random_grid, n_iter = 10, cv = 3, verbose=10, random_state=42, n_jobs = -1)\n",
    "# Fit the random search model\n",
    "rf_random.fit(train_X, train_y)"
   ]
  },
  {
   "cell_type": "markdown",
   "metadata": {},
   "source": [
    "## Evaluate a validate the tuned model"
   ]
  },
  {
   "cell_type": "code",
   "execution_count": 45,
   "metadata": {
    "execution": {
     "iopub.execute_input": "2022-01-30T23:12:19.731165Z",
     "iopub.status.busy": "2022-01-30T23:12:19.729329Z",
     "iopub.status.idle": "2022-01-30T23:12:20.752409Z",
     "shell.execute_reply": "2022-01-30T23:12:20.751711Z",
     "shell.execute_reply.started": "2022-01-30T23:12:19.731127Z"
    }
   },
   "outputs": [
    {
     "data": {
      "text/plain": [
       "array([1., 0., 1., ..., 1., 1., 1.])"
      ]
     },
     "execution_count": 45,
     "metadata": {},
     "output_type": "execute_result"
    }
   ],
   "source": [
    "pred2 = np.around(rf_random.predict(val_X))\n",
    "pred2"
   ]
  },
  {
   "cell_type": "code",
   "execution_count": 46,
   "metadata": {
    "execution": {
     "iopub.execute_input": "2022-01-30T23:12:20.754377Z",
     "iopub.status.busy": "2022-01-30T23:12:20.753541Z",
     "iopub.status.idle": "2022-01-30T23:12:20.762940Z",
     "shell.execute_reply": "2022-01-30T23:12:20.762111Z",
     "shell.execute_reply.started": "2022-01-30T23:12:20.754336Z"
    }
   },
   "outputs": [
    {
     "name": "stdout",
     "output_type": "stream",
     "text": [
      "Accuracy of tuned model:  0.9299662487945998\n"
     ]
    }
   ],
   "source": [
    "accuracy2 = accuracy_score(val_y, pred2)\n",
    "print('Accuracy of tuned model: ', accuracy2)"
   ]
  },
  {
   "cell_type": "code",
   "execution_count": 47,
   "metadata": {
    "execution": {
     "iopub.execute_input": "2022-01-30T23:12:20.765147Z",
     "iopub.status.busy": "2022-01-30T23:12:20.764619Z",
     "iopub.status.idle": "2022-01-30T23:12:20.806661Z",
     "shell.execute_reply": "2022-01-30T23:12:20.805874Z",
     "shell.execute_reply.started": "2022-01-30T23:12:20.765109Z"
    }
   },
   "outputs": [
    {
     "name": "stdout",
     "output_type": "stream",
     "text": [
      "              precision    recall  f1-score   support\n",
      "\n",
      "         0.0       0.94      0.89      0.91      6666\n",
      "         1.0       0.93      0.96      0.94      9926\n",
      "\n",
      "    accuracy                           0.93     16592\n",
      "   macro avg       0.93      0.92      0.93     16592\n",
      "weighted avg       0.93      0.93      0.93     16592\n",
      "\n"
     ]
    }
   ],
   "source": [
    "print(classification_report(val_y,pred2))"
   ]
  },
  {
   "cell_type": "code",
   "execution_count": 48,
   "metadata": {
    "execution": {
     "iopub.execute_input": "2022-01-30T23:15:37.540016Z",
     "iopub.status.busy": "2022-01-30T23:15:37.539746Z",
     "iopub.status.idle": "2022-01-30T23:15:37.544862Z",
     "shell.execute_reply": "2022-01-30T23:15:37.544185Z",
     "shell.execute_reply.started": "2022-01-30T23:15:37.539985Z"
    }
   },
   "outputs": [
    {
     "name": "stdout",
     "output_type": "stream",
     "text": [
      "Accuracy improvement of: 0.362 % with hyperparameter tuning (GridSearchCV)\n"
     ]
    }
   ],
   "source": [
    "print('Accuracy improvement of: {0:.3g} % with hyperparameter tuning (GridSearchCV)'.format(\n",
    "    (accuracy2-accuracy)*100))"
   ]
  },
  {
   "cell_type": "code",
   "execution_count": 49,
   "metadata": {},
   "outputs": [
    {
     "data": {
      "text/plain": [
       "{'n_estimators': 350,\n",
       " 'max_features': 'sqrt',\n",
       " 'max_depth': 110,\n",
       " 'bootstrap': False}"
      ]
     },
     "execution_count": 49,
     "metadata": {},
     "output_type": "execute_result"
    }
   ],
   "source": [
    "rf_random.best_params_"
   ]
  },
  {
   "cell_type": "code",
   "execution_count": 52,
   "metadata": {},
   "outputs": [
    {
     "data": {
      "text/plain": [
       "(49775, 18)"
      ]
     },
     "execution_count": 52,
     "metadata": {},
     "output_type": "execute_result"
    }
   ],
   "source": [
    "train_X.shape"
   ]
  },
  {
   "cell_type": "markdown",
   "metadata": {},
   "source": [
    "We can see that the model performed better with more n_estimators (350) in comparison with the base model (100 estimators). This is because the data set have a relatively large amount of rows, since the number of trees needed in the Random Forest Regressor depends on the number of rows in the data set. The more rows in the data, the more trees are needed."
   ]
  },
  {
   "cell_type": "code",
   "execution_count": 50,
   "metadata": {},
   "outputs": [
    {
     "name": "stdout",
     "output_type": "stream",
     "text": [
      "Fitting 3 folds for each of 10 candidates, totalling 30 fits\n",
      "Fitting 3 folds for each of 10 candidates, totalling 30 fits\n",
      "Fitting 3 folds for each of 10 candidates, totalling 30 fits\n",
      "Fitting 3 folds for each of 10 candidates, totalling 30 fits\n",
      "Fitting 3 folds for each of 10 candidates, totalling 30 fits\n"
     ]
    },
    {
     "data": {
      "text/plain": [
       "array([0.78318967, 0.81049285, 0.82046251, 0.82071863, 0.78812359])"
      ]
     },
     "execution_count": 50,
     "metadata": {},
     "output_type": "execute_result"
    }
   ],
   "source": [
    "from sklearn.model_selection import cross_val_score\n",
    "\n",
    "scores = cross_val_score(rf_random, X, y, cv=5)\n",
    "scores"
   ]
  },
  {
   "cell_type": "code",
   "execution_count": 51,
   "metadata": {},
   "outputs": [
    {
     "name": "stdout",
     "output_type": "stream",
     "text": [
      "0.80 accuracy with a standard deviation of 0.02\n"
     ]
    }
   ],
   "source": [
    "print(\"%0.2f accuracy with a standard deviation of %0.2f\" % (scores.mean(), scores.std()))"
   ]
  },
  {
   "cell_type": "markdown",
   "metadata": {},
   "source": [
    "We can see that the validation performance is stable and doesn't fluctuate much, then, this proves that the model is robust against small perturbations in the training data."
   ]
  },
  {
   "cell_type": "markdown",
   "metadata": {},
   "source": [
    "# Section 7: Conclusions"
   ]
  },
  {
   "cell_type": "markdown",
   "metadata": {},
   "source": [
    "- The data preprocessing methods allowed us to build a highly accurate model\n",
    "- The Random Forest Regressor classifier algorithm showed to be effective for the binary classification in this business case since the base model showed an accuracy of 92.5% and precision, recall and f1-score metrics almost all over 90%\n",
    "- Performing hyperparameter tuning improved the model accuracy in 0.44%\n",
    "- k-fold cross validation metrics showed that the model is stable and robust against small perturbations in the training data.\n",
    "- The model performed better with more n_estimators (350) in comparison with the base model (100 estimators)"
   ]
  }
 ],
 "metadata": {
  "kernelspec": {
   "display_name": "Python 3",
   "language": "python",
   "name": "python3"
  },
  "language_info": {
   "codemirror_mode": {
    "name": "ipython",
    "version": 3
   },
   "file_extension": ".py",
   "mimetype": "text/x-python",
   "name": "python",
   "nbconvert_exporter": "python",
   "pygments_lexer": "ipython3",
   "version": "3.8.8"
  }
 },
 "nbformat": 4,
 "nbformat_minor": 4
}
